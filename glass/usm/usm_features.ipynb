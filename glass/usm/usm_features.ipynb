{
 "cells": [
  {
   "cell_type": "code",
   "execution_count": 1,
   "metadata": {},
   "outputs": [],
   "source": [
    "import torchvision\n",
    "import torch\n",
    "import matplotlib.pyplot as plt\n",
    "import numpy as np\n",
    "import torch.nn as nn\n",
    "import torch.utils.data as Data\n",
    "from torchvision import transforms\n",
    "from torchvision.datasets import ImageFolder"
   ]
  },
  {
   "cell_type": "code",
   "execution_count": 2,
   "metadata": {},
   "outputs": [
    {
     "name": "stdout",
     "output_type": "stream",
     "text": [
      "train_features.shape: (13452, 84)\n",
      "train_labels.shape (13452, 1)\n",
      "test_features.shape: (3304, 84)\n",
      "test_labels.shape (3304, 1)\n"
     ]
    }
   ],
   "source": [
    "train_features = np.load('C:\\\\Users\\\\atr\\\\Desktop\\\\save\\\\single\\\\usm\\\\usm_train_features.npy')\n",
    "train_labels = np.load('C:\\\\Users\\\\atr\\\\Desktop\\\\save\\\\single\\\\usm\\\\usm_train_labels.npy')\n",
    "train_features = np.squeeze(train_features)\n",
    "print(\"train_features.shape:\",train_features.shape)\n",
    "print(\"train_labels.shape\", train_labels.shape)\n",
    "\n",
    "test_features = np.load('C:\\\\Users\\\\atr\\\\Desktop\\\\save\\\\single\\\\usm\\\\usm_test_features.npy')\n",
    "test_labels = np.load('C:\\\\Users\\\\atr\\\\Desktop\\\\save\\\\single\\\\usm\\\\usm_test_labels.npy')\n",
    "test_features = np.squeeze(test_features)\n",
    "print(\"test_features.shape:\",test_features.shape)\n",
    "print(\"test_labels.shape\", test_labels.shape)"
   ]
  },
  {
   "cell_type": "code",
   "execution_count": 3,
   "metadata": {},
   "outputs": [
    {
     "name": "stderr",
     "output_type": "stream",
     "text": [
      "D:\\anaconda\\lib\\site-packages\\sklearn\\utils\\validation.py:63: DataConversionWarning: A column-vector y was passed when a 1d array was expected. Please change the shape of y to (n_samples, ), for example using ravel().\n",
      "  return f(*args, **kwargs)\n"
     ]
    },
    {
     "data": {
      "text/plain": [
       "0.6912832929782082"
      ]
     },
     "execution_count": 3,
     "metadata": {},
     "output_type": "execute_result"
    }
   ],
   "source": [
    "from sklearn import svm\n",
    "classifier = svm.SVC(gamma = 100)\n",
    "classifier.fit(train_features, train_labels)\n",
    "classifier.score(test_features,test_labels)"
   ]
  },
  {
   "cell_type": "code",
   "execution_count": 4,
   "metadata": {},
   "outputs": [
    {
     "name": "stdout",
     "output_type": "stream",
     "text": [
      "new_train.shape: (13448, 30)\n",
      "new_test.shape: (3314, 30)\n"
     ]
    }
   ],
   "source": [
    "#使用pca降维\n",
    "from sklearn.decomposition import PCA\n",
    "pca = PCA(n_components=30)\n",
    "pca_train = pca.fit_transform(train_features)\n",
    "pca_test = pca.fit_transform(test_features)\n",
    "print(\"new_train.shape:\", pca_train.shape)\n",
    "print(\"new_test.shape:\", pca_test.shape)"
   ]
  },
  {
   "cell_type": "code",
   "execution_count": 10,
   "metadata": {},
   "outputs": [
    {
     "name": "stderr",
     "output_type": "stream",
     "text": [
      "D:\\anaconda\\lib\\site-packages\\sklearn\\utils\\validation.py:760: DataConversionWarning: A column-vector y was passed when a 1d array was expected. Please change the shape of y to (n_samples, ), for example using ravel().\n",
      "  y = column_or_1d(y, warn=True)\n"
     ]
    },
    {
     "data": {
      "text/plain": [
       "0.643633071816536"
      ]
     },
     "execution_count": 10,
     "metadata": {},
     "output_type": "execute_result"
    }
   ],
   "source": [
    "from sklearn import svm\n",
    "classifier = svm.SVC(gamma = 20)\n",
    "classifier.fit(pca_train, train_labels)\n",
    "classifier.score(pca_test,test_labels)"
   ]
  },
  {
   "cell_type": "code",
   "execution_count": 11,
   "metadata": {},
   "outputs": [
    {
     "name": "stdout",
     "output_type": "stream",
     "text": [
      "train_new.shape: (13448, 3)\n",
      "test_new.shape: (3314, 3)\n"
     ]
    }
   ],
   "source": [
    "from sklearn.feature_selection import SelectFromModel\n",
    "from sklearn.linear_model import Lasso           # 此处以L1正则化的线性模型Lasso为例\n",
    "lasso = Lasso(alpha=0.005).fit(train_features, train_labels) \n",
    "model = SelectFromModel(lasso, prefit=True)\n",
    "\n",
    "train_new = model.transform(train_features)\n",
    "test_new = model.transform(test_features)\n",
    "\n",
    "print(\"train_new.shape:\", train_new.shape)\n",
    "print(\"test_new.shape:\", test_new.shape)"
   ]
  },
  {
   "cell_type": "code",
   "execution_count": 12,
   "metadata": {},
   "outputs": [
    {
     "name": "stderr",
     "output_type": "stream",
     "text": [
      "D:\\anaconda\\lib\\site-packages\\sklearn\\utils\\validation.py:760: DataConversionWarning: A column-vector y was passed when a 1d array was expected. Please change the shape of y to (n_samples, ), for example using ravel().\n",
      "  y = column_or_1d(y, warn=True)\n"
     ]
    },
    {
     "data": {
      "text/plain": [
       "0.6406155703077852"
      ]
     },
     "execution_count": 12,
     "metadata": {},
     "output_type": "execute_result"
    }
   ],
   "source": [
    "from sklearn import svm\n",
    "classifier = svm.SVC(gamma=60)\n",
    "classifier.fit(train_new, train_labels)\n",
    "classifier.score(test_new,test_labels)"
   ]
  },
  {
   "cell_type": "code",
   "execution_count": null,
   "metadata": {},
   "outputs": [],
   "source": []
  },
  {
   "cell_type": "code",
   "execution_count": null,
   "metadata": {},
   "outputs": [],
   "source": []
  }
 ],
 "metadata": {
  "kernelspec": {
   "display_name": "Python 3",
   "language": "python",
   "name": "python3"
  },
  "language_info": {
   "codemirror_mode": {
    "name": "ipython",
    "version": 3
   },
   "file_extension": ".py",
   "mimetype": "text/x-python",
   "name": "python",
   "nbconvert_exporter": "python",
   "pygments_lexer": "ipython3",
   "version": "3.7.6"
  }
 },
 "nbformat": 4,
 "nbformat_minor": 4
}
