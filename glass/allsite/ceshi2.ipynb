{
 "cells": [
  {
   "cell_type": "code",
   "execution_count": 57,
   "metadata": {},
   "outputs": [],
   "source": [
    "import torchvision\n",
    "import torch\n",
    "import matplotlib.pyplot as plt\n",
    "import numpy as np\n",
    "import torch.nn as nn\n",
    "import torch.utils.data as Data\n",
    "from torchvision import transforms\n",
    "from torchvision.datasets import ImageFolder\n",
    "\n",
    "BATCH_SIZE = 1\n",
    "device = torch.device(\"cuda:0\" if torch.cuda.is_available() else \"cpu\")"
   ]
  },
  {
   "cell_type": "code",
   "execution_count": 98,
   "metadata": {},
   "outputs": [
    {
     "name": "stdout",
     "output_type": "stream",
     "text": [
      "test_num 3304\n",
      "train_num 13452\n"
     ]
    }
   ],
   "source": [
    "test_transform = transforms.Compose([\n",
    "         transforms.Resize((224, 224)),\n",
    "         transforms.ToTensor(),\n",
    "])\n",
    "test = ImageFolder('F:\\\\glass\\\\5fold\\\\glass_data5\\\\usm\\\\test\\\\', test_transform)\n",
    "test_num = len(test)\n",
    "print('test_num',test_num)\n",
    "\n",
    "'''\n",
    "加载训练集\n",
    "'''\n",
    "train_transform = transforms.Compose([\n",
    "         transforms.Resize((224, 224)),\n",
    "         transforms.ToTensor(),\n",
    "])\n",
    "train = ImageFolder('F:\\\\glass\\\\5fold\\\\glass_data5\\\\usm\\\\train\\\\', train_transform)\n",
    "train_num = len(train)\n",
    "print('train_num',train_num)\n"
   ]
  },
  {
   "cell_type": "code",
   "execution_count": null,
   "metadata": {},
   "outputs": [],
   "source": []
  },
  {
   "cell_type": "code",
   "execution_count": null,
   "metadata": {},
   "outputs": [],
   "source": []
  },
  {
   "cell_type": "code",
   "execution_count": null,
   "metadata": {},
   "outputs": [],
   "source": []
  }
 ],
 "metadata": {
  "kernelspec": {
   "display_name": "Python 3",
   "language": "python",
   "name": "python3"
  },
  "language_info": {
   "codemirror_mode": {
    "name": "ipython",
    "version": 3
   },
   "file_extension": ".py",
   "mimetype": "text/x-python",
   "name": "python",
   "nbconvert_exporter": "python",
   "pygments_lexer": "ipython3",
   "version": "3.7.6"
  }
 },
 "nbformat": 4,
 "nbformat_minor": 4
}
