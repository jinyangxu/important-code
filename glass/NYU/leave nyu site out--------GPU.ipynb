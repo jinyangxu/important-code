{
 "cells": [
  {
   "cell_type": "code",
   "execution_count": null,
   "metadata": {},
   "outputs": [],
   "source": [
    "import numpy as np\n",
    "\n",
    "\n",
    "test_features = np.load('/home/zsz2/pytorch-code/xjy/save/test_features.npy')\n",
    "test_labels = np.load('/home/zsz2/pytorch-code/xjy/save/test_labels.npy')\n",
    "test_features = np.squeeze(test_features)\n",
    "print(\"test_features.shape:\",test_features.shape)\n",
    "print(\"test_labels.shape\", test_labels.shape)\n",
    "\n",
    "train_features = np.load('/home/zsz2/pytorch-code/xjy/save/train_features.npy')\n",
    "train_labels = np.load('/home/zsz2/pytorch-code/xjy/save/train_labels.npy')\n",
    "train_features = np.squeeze(train_features)\n",
    "print(\"train_features.shape:\",train_features.shape)\n",
    "print(\"train_labels.shape\", train_labels.shape)\n",
    "\n",
    "val_features = np.load('/home/zsz2/pytorch-code/xjy/save/val_features.npy')\n",
    "val_labels = np.load('/home/zsz2/pytorch-code/xjy/save/val_labels.npy')\n",
    "val_features = np.squeeze(val_features)\n",
    "print(\"val_features.shape:\",val_features.shape)\n",
    "print(\"val_labels.shape\", val_labels.shape)\n",
    "\n",
    "\n",
    "from sklearn import svm\n",
    "classifier = svm.SVC(gamma=0.001)\n",
    "classifier.fit(train_features, train_labels)\n",
    "classifier.score(test_features,test_labels)"
   ]
  }
 ],
 "metadata": {
  "kernelspec": {
   "display_name": "Python 3",
   "language": "python",
   "name": "python3"
  },
  "language_info": {
   "codemirror_mode": {
    "name": "ipython",
    "version": 3
   },
   "file_extension": ".py",
   "mimetype": "text/x-python",
   "name": "python",
   "nbconvert_exporter": "python",
   "pygments_lexer": "ipython3",
   "version": "3.7.6"
  }
 },
 "nbformat": 4,
 "nbformat_minor": 4
}
