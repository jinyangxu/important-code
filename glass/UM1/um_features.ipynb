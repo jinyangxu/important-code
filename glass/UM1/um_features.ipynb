{
 "cells": [
  {
   "cell_type": "code",
   "execution_count": 181,
   "metadata": {},
   "outputs": [],
   "source": [
    "import torchvision\n",
    "import torch\n",
    "import matplotlib.pyplot as plt\n",
    "import numpy as np\n",
    "import torch.nn as nn\n",
    "import torch.utils.data as Data\n",
    "from torchvision import transforms\n",
    "from torchvision.datasets import ImageFolder"
   ]
  },
  {
   "cell_type": "code",
   "execution_count": 182,
   "metadata": {},
   "outputs": [
    {
     "name": "stdout",
     "output_type": "stream",
     "text": [
      "train_features.shape: (25456, 84)\n",
      "train_labels.shape (25456, 1)\n",
      "test_features.shape: (5920, 84)\n",
      "test_labels.shape (5920, 1)\n"
     ]
    }
   ],
   "source": [
    "train_features = np.load('C:\\\\Users\\\\atr\\\\Desktop\\\\save\\\\single\\\\um\\\\um_train_features.npy')\n",
    "train_labels = np.load('C:\\\\Users\\\\atr\\\\Desktop\\\\save\\\\single\\\\um\\\\um_train_labels.npy')\n",
    "train_features = np.squeeze(train_features)\n",
    "print(\"train_features.shape:\",train_features.shape)\n",
    "print(\"train_labels.shape\", train_labels.shape)\n",
    "\n",
    "test_features = np.load('C:\\\\Users\\\\atr\\\\Desktop\\\\save\\\\single\\\\um\\\\um_test_features.npy')\n",
    "test_labels = np.load('C:\\\\Users\\\\atr\\\\Desktop\\\\save\\\\single\\\\um\\\\um_test_labels.npy')\n",
    "test_features = np.squeeze(test_features)\n",
    "print(\"test_features.shape:\",test_features.shape)\n",
    "print(\"test_labels.shape\", test_labels.shape)"
   ]
  },
  {
   "cell_type": "code",
   "execution_count": 183,
   "metadata": {},
   "outputs": [
    {
     "name": "stderr",
     "output_type": "stream",
     "text": [
      "D:\\anaconda\\lib\\site-packages\\sklearn\\utils\\validation.py:760: DataConversionWarning: A column-vector y was passed when a 1d array was expected. Please change the shape of y to (n_samples, ), for example using ravel().\n",
      "  y = column_or_1d(y, warn=True)\n"
     ]
    },
    {
     "data": {
      "text/plain": [
       "0.7923986486486486"
      ]
     },
     "execution_count": 183,
     "metadata": {},
     "output_type": "execute_result"
    }
   ],
   "source": [
    "from sklearn import svm\n",
    "classifier = svm.SVC()\n",
    "classifier.fit(train_features, train_labels)\n",
    "classifier.score(test_features,test_labels)"
   ]
  },
  {
   "cell_type": "code",
   "execution_count": 184,
   "metadata": {},
   "outputs": [
    {
     "name": "stdout",
     "output_type": "stream",
     "text": [
      "new_train.shape: (25456, 20)\n",
      "new_test.shape: (5920, 20)\n"
     ]
    }
   ],
   "source": [
    "#使用pca降维\n",
    "from sklearn.decomposition import PCA\n",
    "pca = PCA(n_components=20)\n",
    "pca_train = pca.fit_transform(train_features)\n",
    "pca_test = pca.fit_transform(test_features)\n",
    "print(\"new_train.shape:\", pca_train.shape)\n",
    "print(\"new_test.shape:\", pca_test.shape)"
   ]
  },
  {
   "cell_type": "code",
   "execution_count": 185,
   "metadata": {},
   "outputs": [
    {
     "name": "stderr",
     "output_type": "stream",
     "text": [
      "D:\\anaconda\\lib\\site-packages\\sklearn\\utils\\validation.py:760: DataConversionWarning: A column-vector y was passed when a 1d array was expected. Please change the shape of y to (n_samples, ), for example using ravel().\n",
      "  y = column_or_1d(y, warn=True)\n"
     ]
    },
    {
     "data": {
      "text/plain": [
       "0.7886824324324324"
      ]
     },
     "execution_count": 185,
     "metadata": {},
     "output_type": "execute_result"
    }
   ],
   "source": [
    "from sklearn import svm\n",
    "classifier = svm.SVC()\n",
    "classifier.fit(pca_train, train_labels)\n",
    "classifier.score(pca_test,test_labels)"
   ]
  },
  {
   "cell_type": "code",
   "execution_count": 186,
   "metadata": {},
   "outputs": [
    {
     "name": "stdout",
     "output_type": "stream",
     "text": [
      "train_new.shape: (25456, 12)\n",
      "test_new.shape: (5920, 12)\n"
     ]
    },
    {
     "name": "stderr",
     "output_type": "stream",
     "text": [
      "D:\\anaconda\\lib\\site-packages\\sklearn\\linear_model\\_coordinate_descent.py:476: ConvergenceWarning: Objective did not converge. You might want to increase the number of iterations. Duality gap: 58.87646484375, tolerance: 0.6363999843597412\n",
      "  positive)\n"
     ]
    }
   ],
   "source": [
    "from sklearn.feature_selection import SelectFromModel\n",
    "from sklearn.linear_model import Lasso           # 此处以L1正则化的线性模型Lasso为例\n",
    "lasso = Lasso(alpha=0.0005).fit(train_features, train_labels) \n",
    "model = SelectFromModel(lasso, prefit=True)\n",
    "\n",
    "train_new = model.transform(train_features)\n",
    "test_new = model.transform(test_features)\n",
    "\n",
    "print(\"train_new.shape:\", train_new.shape)\n",
    "print(\"test_new.shape:\", test_new.shape)"
   ]
  },
  {
   "cell_type": "code",
   "execution_count": 187,
   "metadata": {},
   "outputs": [
    {
     "name": "stderr",
     "output_type": "stream",
     "text": [
      "D:\\anaconda\\lib\\site-packages\\sklearn\\utils\\validation.py:760: DataConversionWarning: A column-vector y was passed when a 1d array was expected. Please change the shape of y to (n_samples, ), for example using ravel().\n",
      "  y = column_or_1d(y, warn=True)\n"
     ]
    },
    {
     "data": {
      "text/plain": [
       "0.79375"
      ]
     },
     "execution_count": 187,
     "metadata": {},
     "output_type": "execute_result"
    }
   ],
   "source": [
    "from sklearn import svm\n",
    "classifier = svm.SVC()\n",
    "classifier.fit(train_new, train_labels)\n",
    "classifier.score(test_new,test_labels)"
   ]
  },
  {
   "cell_type": "code",
   "execution_count": null,
   "metadata": {},
   "outputs": [],
   "source": []
  },
  {
   "cell_type": "code",
   "execution_count": null,
   "metadata": {},
   "outputs": [],
   "source": []
  },
  {
   "cell_type": "code",
   "execution_count": null,
   "metadata": {},
   "outputs": [],
   "source": []
  },
  {
   "cell_type": "code",
   "execution_count": null,
   "metadata": {},
   "outputs": [],
   "source": []
  },
  {
   "cell_type": "code",
   "execution_count": null,
   "metadata": {},
   "outputs": [],
   "source": []
  },
  {
   "cell_type": "code",
   "execution_count": null,
   "metadata": {},
   "outputs": [],
   "source": []
  },
  {
   "cell_type": "code",
   "execution_count": null,
   "metadata": {},
   "outputs": [],
   "source": []
  },
  {
   "cell_type": "code",
   "execution_count": null,
   "metadata": {},
   "outputs": [],
   "source": []
  },
  {
   "cell_type": "code",
   "execution_count": null,
   "metadata": {},
   "outputs": [],
   "source": []
  },
  {
   "cell_type": "code",
   "execution_count": null,
   "metadata": {},
   "outputs": [],
   "source": []
  },
  {
   "cell_type": "code",
   "execution_count": 163,
   "metadata": {},
   "outputs": [],
   "source": [
    "addfeatures_train = []\n",
    "addfeatures_test = []\n",
    "\n",
    "for i in range(86):\n",
    "    min_train = train_features[i*296:(i+1)*296]\n",
    "    addfeatures_train.append(min_train)\n",
    "    \n",
    "for i in range(20):\n",
    "    min_test = test_features[i*296:(i+1)*296]\n",
    "    addfeatures_test.append(min_test)\n",
    "    \n",
    "addfeatures_train = np.squeeze(np.array(addfeatures_train))\n",
    "#addfeatures_train = addfeatures_train.transpose(0,2,1)\n",
    "addfeatures_test = np.squeeze(np.array(addfeatures_test))\n",
    "#addfeatures_test = addfeatures_test.transpose(0,2,1)\n",
    "    \n",
    "addtrain_labels = np.array([0]*43+[1]*43)\n",
    "addtest_labels = np.array([0]*10+[1]*10)"
   ]
  },
  {
   "cell_type": "code",
   "execution_count": 164,
   "metadata": {},
   "outputs": [
    {
     "name": "stdout",
     "output_type": "stream",
     "text": [
      "Train on 86 samples, validate on 20 samples\n",
      "Epoch 1/500\n",
      "86/86 [==============================] - 3s 30ms/step - loss: 0.6942 - accuracy: 0.5000 - val_loss: 0.6937 - val_accuracy: 0.5000\n",
      "Epoch 2/500\n",
      "86/86 [==============================] - 1s 10ms/step - loss: 0.6933 - accuracy: 0.5000 - val_loss: 0.6926 - val_accuracy: 0.5000\n",
      "Epoch 3/500\n",
      "86/86 [==============================] - 1s 10ms/step - loss: 0.6924 - accuracy: 0.5116 - val_loss: 0.6917 - val_accuracy: 0.5000\n",
      "Epoch 4/500\n",
      "86/86 [==============================] - 1s 10ms/step - loss: 0.6915 - accuracy: 0.5233 - val_loss: 0.6916 - val_accuracy: 0.5500\n",
      "Epoch 5/500\n",
      "86/86 [==============================] - 1s 10ms/step - loss: 0.6913 - accuracy: 0.5814 - val_loss: 0.6917 - val_accuracy: 0.5000\n",
      "Epoch 6/500\n",
      "86/86 [==============================] - 1s 10ms/step - loss: 0.6921 - accuracy: 0.5465 - val_loss: 0.6916 - val_accuracy: 0.5000\n",
      "Epoch 7/500\n",
      "86/86 [==============================] - 1s 10ms/step - loss: 0.6914 - accuracy: 0.5349 - val_loss: 0.6916 - val_accuracy: 0.5000\n",
      "Epoch 8/500\n",
      "86/86 [==============================] - 1s 11ms/step - loss: 0.6919 - accuracy: 0.5233 - val_loss: 0.6915 - val_accuracy: 0.5500\n",
      "Epoch 9/500\n",
      "86/86 [==============================] - 1s 10ms/step - loss: 0.6924 - accuracy: 0.5233 - val_loss: 0.6915 - val_accuracy: 0.5500\n",
      "Epoch 10/500\n",
      "86/86 [==============================] - 1s 11ms/step - loss: 0.6906 - accuracy: 0.5814 - val_loss: 0.6915 - val_accuracy: 0.5500\n",
      "Epoch 11/500\n",
      "86/86 [==============================] - 1s 11ms/step - loss: 0.6930 - accuracy: 0.5000 - val_loss: 0.6915 - val_accuracy: 0.4500\n",
      "Epoch 12/500\n",
      "86/86 [==============================] - 1s 11ms/step - loss: 0.6905 - accuracy: 0.5349 - val_loss: 0.6914 - val_accuracy: 0.6000\n",
      "Epoch 13/500\n",
      "86/86 [==============================] - 1s 11ms/step - loss: 0.6903 - accuracy: 0.6047 - val_loss: 0.6914 - val_accuracy: 0.6500\n",
      "Epoch 14/500\n",
      "86/86 [==============================] - 1s 11ms/step - loss: 0.6906 - accuracy: 0.5698 - val_loss: 0.6914 - val_accuracy: 0.5000\n",
      "Epoch 15/500\n",
      "86/86 [==============================] - 1s 11ms/step - loss: 0.6914 - accuracy: 0.4884 - val_loss: 0.6914 - val_accuracy: 0.5000\n",
      "Epoch 16/500\n",
      "86/86 [==============================] - 1s 11ms/step - loss: 0.6924 - accuracy: 0.4884 - val_loss: 0.6914 - val_accuracy: 0.5500\n",
      "Epoch 17/500\n",
      "86/86 [==============================] - 1s 11ms/step - loss: 0.6902 - accuracy: 0.5581 - val_loss: 0.6913 - val_accuracy: 0.7500\n",
      "Epoch 18/500\n",
      "86/86 [==============================] - 1s 11ms/step - loss: 0.6900 - accuracy: 0.6047 - val_loss: 0.6913 - val_accuracy: 0.5500\n",
      "Epoch 19/500\n",
      "86/86 [==============================] - 1s 11ms/step - loss: 0.6903 - accuracy: 0.5465 - val_loss: 0.6912 - val_accuracy: 0.5500\n",
      "Epoch 20/500\n",
      "86/86 [==============================] - 1s 11ms/step - loss: 0.6900 - accuracy: 0.5465 - val_loss: 0.6912 - val_accuracy: 0.5500\n",
      "Epoch 21/500\n",
      "86/86 [==============================] - 1s 11ms/step - loss: 0.6908 - accuracy: 0.6047 - val_loss: 0.6911 - val_accuracy: 0.6500\n",
      "Epoch 22/500\n",
      "86/86 [==============================] - 1s 11ms/step - loss: 0.6899 - accuracy: 0.6163 - val_loss: 0.6911 - val_accuracy: 0.6500\n",
      "Epoch 23/500\n",
      "86/86 [==============================] - 1s 11ms/step - loss: 0.6897 - accuracy: 0.5814 - val_loss: 0.6910 - val_accuracy: 0.7000\n",
      "Epoch 24/500\n",
      "86/86 [==============================] - 1s 11ms/step - loss: 0.6902 - accuracy: 0.6163 - val_loss: 0.6910 - val_accuracy: 0.6500\n",
      "Epoch 25/500\n",
      "86/86 [==============================] - 1s 11ms/step - loss: 0.6924 - accuracy: 0.5814 - val_loss: 0.6910 - val_accuracy: 0.6000\n",
      "Epoch 26/500\n",
      "86/86 [==============================] - 1s 11ms/step - loss: 0.6898 - accuracy: 0.6279 - val_loss: 0.6909 - val_accuracy: 0.6500\n",
      "Epoch 27/500\n",
      "86/86 [==============================] - 1s 11ms/step - loss: 0.6912 - accuracy: 0.5698 - val_loss: 0.6909 - val_accuracy: 0.6000\n",
      "Epoch 28/500\n",
      "86/86 [==============================] - 1s 11ms/step - loss: 0.6893 - accuracy: 0.6279 - val_loss: 0.6908 - val_accuracy: 0.6500\n",
      "Epoch 29/500\n",
      "86/86 [==============================] - 1s 11ms/step - loss: 0.6896 - accuracy: 0.5465 - val_loss: 0.6907 - val_accuracy: 0.6500\n",
      "Epoch 30/500\n",
      "86/86 [==============================] - 1s 11ms/step - loss: 0.6893 - accuracy: 0.6047 - val_loss: 0.6907 - val_accuracy: 0.6000\n",
      "Epoch 31/500\n",
      "86/86 [==============================] - 1s 11ms/step - loss: 0.6889 - accuracy: 0.6047 - val_loss: 0.6906 - val_accuracy: 0.6000\n",
      "Epoch 32/500\n",
      "86/86 [==============================] - 1s 11ms/step - loss: 0.6899 - accuracy: 0.5233 - val_loss: 0.6906 - val_accuracy: 0.6500\n",
      "Epoch 33/500\n",
      "86/86 [==============================] - 1s 11ms/step - loss: 0.6887 - accuracy: 0.6163 - val_loss: 0.6905 - val_accuracy: 0.6000\n",
      "Epoch 34/500\n",
      "86/86 [==============================] - 1s 11ms/step - loss: 0.6942 - accuracy: 0.5116 - val_loss: 0.6910 - val_accuracy: 0.5000\n",
      "Epoch 35/500\n",
      "86/86 [==============================] - 1s 11ms/step - loss: 0.6896 - accuracy: 0.5233 - val_loss: 0.6904 - val_accuracy: 0.6000\n",
      "Epoch 36/500\n",
      "86/86 [==============================] - 1s 11ms/step - loss: 0.6914 - accuracy: 0.5233 - val_loss: 0.6903 - val_accuracy: 0.6500\n",
      "Epoch 37/500\n",
      "86/86 [==============================] - 1s 11ms/step - loss: 0.6893 - accuracy: 0.5698 - val_loss: 0.6904 - val_accuracy: 0.5500\n",
      "Epoch 38/500\n",
      "86/86 [==============================] - 1s 11ms/step - loss: 0.6884 - accuracy: 0.5814 - val_loss: 0.6902 - val_accuracy: 0.5500\n",
      "Epoch 39/500\n",
      "86/86 [==============================] - 1s 11ms/step - loss: 0.6881 - accuracy: 0.6047 - val_loss: 0.6902 - val_accuracy: 0.6500\n",
      "Epoch 40/500\n",
      "86/86 [==============================] - 1s 11ms/step - loss: 0.6909 - accuracy: 0.5465 - val_loss: 0.6902 - val_accuracy: 0.5500\n",
      "Epoch 41/500\n",
      "86/86 [==============================] - 1s 11ms/step - loss: 0.6880 - accuracy: 0.5698 - val_loss: 0.6900 - val_accuracy: 0.6500\n",
      "Epoch 42/500\n",
      "86/86 [==============================] - 1s 11ms/step - loss: 0.6881 - accuracy: 0.5349 - val_loss: 0.6899 - val_accuracy: 0.5500\n",
      "Epoch 43/500\n",
      "86/86 [==============================] - 1s 11ms/step - loss: 0.6877 - accuracy: 0.5814 - val_loss: 0.6898 - val_accuracy: 0.6500\n",
      "Epoch 44/500\n",
      "86/86 [==============================] - 1s 11ms/step - loss: 0.6877 - accuracy: 0.6512 - val_loss: 0.6897 - val_accuracy: 0.7000\n",
      "Epoch 45/500\n",
      "86/86 [==============================] - 1s 11ms/step - loss: 0.6874 - accuracy: 0.6047 - val_loss: 0.6896 - val_accuracy: 0.6500\n",
      "Epoch 46/500\n",
      "86/86 [==============================] - 1s 11ms/step - loss: 0.6888 - accuracy: 0.5814 - val_loss: 0.6895 - val_accuracy: 0.7000\n",
      "Epoch 47/500\n",
      "86/86 [==============================] - 1s 11ms/step - loss: 0.6887 - accuracy: 0.5349 - val_loss: 0.6894 - val_accuracy: 0.7000\n",
      "Epoch 48/500\n",
      "86/86 [==============================] - 1s 13ms/step - loss: 0.6876 - accuracy: 0.6163 - val_loss: 0.6893 - val_accuracy: 0.6000\n",
      "Epoch 49/500\n",
      "86/86 [==============================] - 1s 12ms/step - loss: 0.6867 - accuracy: 0.6279 - val_loss: 0.6891 - val_accuracy: 0.6500\n",
      "Epoch 50/500\n",
      "86/86 [==============================] - 1s 12ms/step - loss: 0.6905 - accuracy: 0.5465 - val_loss: 0.6894 - val_accuracy: 0.5500\n",
      "Epoch 51/500\n",
      "86/86 [==============================] - 1s 12ms/step - loss: 0.6870 - accuracy: 0.5930 - val_loss: 0.6889 - val_accuracy: 0.6500\n",
      "Epoch 52/500\n",
      "86/86 [==============================] - 1s 12ms/step - loss: 0.6869 - accuracy: 0.6279 - val_loss: 0.6887 - val_accuracy: 0.6000\n",
      "Epoch 53/500\n",
      "86/86 [==============================] - 1s 11ms/step - loss: 0.6865 - accuracy: 0.6163 - val_loss: 0.6886 - val_accuracy: 0.5500\n",
      "Epoch 54/500\n",
      "86/86 [==============================] - 1s 11ms/step - loss: 0.6858 - accuracy: 0.6047 - val_loss: 0.6884 - val_accuracy: 0.7000\n",
      "Epoch 55/500\n",
      "86/86 [==============================] - 1s 11ms/step - loss: 0.6857 - accuracy: 0.6047 - val_loss: 0.6882 - val_accuracy: 0.6500\n",
      "Epoch 56/500\n",
      "86/86 [==============================] - 1s 11ms/step - loss: 0.6911 - accuracy: 0.5233 - val_loss: 0.6880 - val_accuracy: 0.6000\n",
      "Epoch 57/500\n",
      "86/86 [==============================] - 1s 11ms/step - loss: 0.6869 - accuracy: 0.5930 - val_loss: 0.6878 - val_accuracy: 0.7000\n",
      "Epoch 58/500\n"
     ]
    },
    {
     "name": "stdout",
     "output_type": "stream",
     "text": [
      "86/86 [==============================] - 1s 11ms/step - loss: 0.6906 - accuracy: 0.5233 - val_loss: 0.6878 - val_accuracy: 0.5500\n",
      "Epoch 59/500\n",
      "86/86 [==============================] - 1s 11ms/step - loss: 0.6890 - accuracy: 0.5116 - val_loss: 0.6875 - val_accuracy: 0.6500\n",
      "Epoch 60/500\n",
      "86/86 [==============================] - 1s 11ms/step - loss: 0.6848 - accuracy: 0.6047 - val_loss: 0.6879 - val_accuracy: 0.5500\n",
      "Epoch 61/500\n",
      "86/86 [==============================] - 1s 11ms/step - loss: 0.6848 - accuracy: 0.6279 - val_loss: 0.6871 - val_accuracy: 0.6500\n",
      "Epoch 62/500\n",
      "86/86 [==============================] - 1s 11ms/step - loss: 0.6845 - accuracy: 0.5814 - val_loss: 0.6871 - val_accuracy: 0.7000\n",
      "Epoch 63/500\n",
      "86/86 [==============================] - 1s 11ms/step - loss: 0.6945 - accuracy: 0.5116 - val_loss: 0.6868 - val_accuracy: 0.7000\n",
      "Epoch 64/500\n",
      "86/86 [==============================] - 1s 11ms/step - loss: 0.6837 - accuracy: 0.6395 - val_loss: 0.6870 - val_accuracy: 0.6000\n",
      "Epoch 65/500\n",
      "86/86 [==============================] - 1s 11ms/step - loss: 0.6854 - accuracy: 0.5814 - val_loss: 0.6879 - val_accuracy: 0.5500\n",
      "Epoch 66/500\n",
      "86/86 [==============================] - 1s 11ms/step - loss: 0.6859 - accuracy: 0.5465 - val_loss: 0.6870 - val_accuracy: 0.5500\n",
      "Epoch 67/500\n",
      "86/86 [==============================] - 1s 11ms/step - loss: 0.6838 - accuracy: 0.5698 - val_loss: 0.6858 - val_accuracy: 0.7000\n",
      "Epoch 68/500\n",
      "86/86 [==============================] - 1s 11ms/step - loss: 0.6827 - accuracy: 0.6163 - val_loss: 0.6855 - val_accuracy: 0.7000\n",
      "Epoch 69/500\n",
      "86/86 [==============================] - 1s 11ms/step - loss: 0.6840 - accuracy: 0.5581 - val_loss: 0.6857 - val_accuracy: 0.6000\n",
      "Epoch 70/500\n",
      "86/86 [==============================] - 1s 11ms/step - loss: 0.6911 - accuracy: 0.5581 - val_loss: 0.6848 - val_accuracy: 0.6500\n",
      "Epoch 71/500\n",
      "86/86 [==============================] - 1s 11ms/step - loss: 0.6819 - accuracy: 0.6628 - val_loss: 0.6845 - val_accuracy: 0.7000\n",
      "Epoch 72/500\n",
      "86/86 [==============================] - 1s 11ms/step - loss: 0.6837 - accuracy: 0.5465 - val_loss: 0.6866 - val_accuracy: 0.4500\n",
      "Epoch 73/500\n",
      "86/86 [==============================] - 1s 11ms/step - loss: 0.7020 - accuracy: 0.4419 - val_loss: 0.6940 - val_accuracy: 0.5000\n",
      "Epoch 74/500\n",
      "86/86 [==============================] - 1s 11ms/step - loss: 0.6937 - accuracy: 0.5000 - val_loss: 0.6893 - val_accuracy: 0.5000\n",
      "Epoch 75/500\n",
      "86/86 [==============================] - 1s 11ms/step - loss: 0.6864 - accuracy: 0.5349 - val_loss: 0.6969 - val_accuracy: 0.5000\n",
      "Epoch 76/500\n",
      "86/86 [==============================] - 1s 11ms/step - loss: 0.6974 - accuracy: 0.5000 - val_loss: 0.6974 - val_accuracy: 0.5000\n",
      "Epoch 77/500\n",
      "86/86 [==============================] - 1s 11ms/step - loss: 0.6974 - accuracy: 0.5000 - val_loss: 0.6967 - val_accuracy: 0.5000\n",
      "Epoch 78/500\n",
      "86/86 [==============================] - 1s 11ms/step - loss: 0.6980 - accuracy: 0.5000 - val_loss: 0.6957 - val_accuracy: 0.5000\n",
      "Epoch 79/500\n",
      "86/86 [==============================] - 1s 11ms/step - loss: 0.6956 - accuracy: 0.5000 - val_loss: 0.6950 - val_accuracy: 0.5000\n",
      "Epoch 80/500\n",
      "86/86 [==============================] - 1s 11ms/step - loss: 0.6949 - accuracy: 0.5000 - val_loss: 0.6941 - val_accuracy: 0.5000\n",
      "Epoch 81/500\n",
      "86/86 [==============================] - 1s 11ms/step - loss: 0.6947 - accuracy: 0.5000 - val_loss: 0.6933 - val_accuracy: 0.5000\n",
      "Epoch 82/500\n",
      "86/86 [==============================] - 1s 11ms/step - loss: 0.6933 - accuracy: 0.5000 - val_loss: 0.6928 - val_accuracy: 0.5000\n",
      "Epoch 83/500\n",
      "86/86 [==============================] - 1s 11ms/step - loss: 0.6939 - accuracy: 0.5000 - val_loss: 0.6924 - val_accuracy: 0.5000\n",
      "Epoch 84/500\n",
      "86/86 [==============================] - 1s 11ms/step - loss: 0.6929 - accuracy: 0.5000 - val_loss: 0.6923 - val_accuracy: 0.5000\n",
      "Epoch 85/500\n",
      "86/86 [==============================] - 1s 11ms/step - loss: 0.6922 - accuracy: 0.5233 - val_loss: 0.6922 - val_accuracy: 0.5500\n",
      "Epoch 86/500\n",
      "86/86 [==============================] - 1s 11ms/step - loss: 0.6923 - accuracy: 0.5581 - val_loss: 0.6922 - val_accuracy: 0.5500\n",
      "Epoch 87/500\n",
      "86/86 [==============================] - 1s 11ms/step - loss: 0.6922 - accuracy: 0.5465 - val_loss: 0.6923 - val_accuracy: 0.5000\n",
      "Epoch 88/500\n",
      "86/86 [==============================] - 1s 11ms/step - loss: 0.6924 - accuracy: 0.5000 - val_loss: 0.6923 - val_accuracy: 0.5000\n",
      "Epoch 89/500\n",
      "86/86 [==============================] - 1s 11ms/step - loss: 0.6924 - accuracy: 0.5116 - val_loss: 0.6923 - val_accuracy: 0.4500\n",
      "Epoch 90/500\n",
      "86/86 [==============================] - 1s 11ms/step - loss: 0.6923 - accuracy: 0.5233 - val_loss: 0.6923 - val_accuracy: 0.5000\n",
      "Epoch 91/500\n",
      "86/86 [==============================] - 1s 11ms/step - loss: 0.6925 - accuracy: 0.4884 - val_loss: 0.6923 - val_accuracy: 0.4500\n",
      "Epoch 92/500\n",
      "86/86 [==============================] - 1s 11ms/step - loss: 0.6932 - accuracy: 0.5116 - val_loss: 0.6923 - val_accuracy: 0.4500\n",
      "Epoch 93/500\n",
      "86/86 [==============================] - 1s 11ms/step - loss: 0.6924 - accuracy: 0.5000 - val_loss: 0.6923 - val_accuracy: 0.5000\n",
      "Epoch 94/500\n",
      "86/86 [==============================] - 1s 11ms/step - loss: 0.6922 - accuracy: 0.5233 - val_loss: 0.6922 - val_accuracy: 0.5000\n",
      "Epoch 95/500\n",
      "86/86 [==============================] - 1s 11ms/step - loss: 0.6922 - accuracy: 0.5116 - val_loss: 0.6922 - val_accuracy: 0.5500\n",
      "Epoch 96/500\n",
      "86/86 [==============================] - 1s 11ms/step - loss: 0.6924 - accuracy: 0.5116 - val_loss: 0.6921 - val_accuracy: 0.5500\n",
      "Epoch 97/500\n",
      "86/86 [==============================] - 1s 11ms/step - loss: 0.6926 - accuracy: 0.5000 - val_loss: 0.6921 - val_accuracy: 0.5500\n",
      "Epoch 98/500\n",
      "86/86 [==============================] - 1s 11ms/step - loss: 0.6928 - accuracy: 0.5000 - val_loss: 0.6921 - val_accuracy: 0.5500\n",
      "Epoch 99/500\n",
      "86/86 [==============================] - 1s 11ms/step - loss: 0.6921 - accuracy: 0.4767 - val_loss: 0.6921 - val_accuracy: 0.5500\n",
      "Epoch 100/500\n",
      "86/86 [==============================] - 1s 11ms/step - loss: 0.6920 - accuracy: 0.5465 - val_loss: 0.6921 - val_accuracy: 0.6000\n",
      "Epoch 101/500\n",
      "86/86 [==============================] - 1s 11ms/step - loss: 0.6921 - accuracy: 0.5465 - val_loss: 0.6921 - val_accuracy: 0.6000\n",
      "Epoch 102/500\n",
      "86/86 [==============================] - 1s 11ms/step - loss: 0.6922 - accuracy: 0.5349 - val_loss: 0.6921 - val_accuracy: 0.6000\n",
      "Epoch 103/500\n",
      "86/86 [==============================] - 1s 11ms/step - loss: 0.6921 - accuracy: 0.5698 - val_loss: 0.6921 - val_accuracy: 0.6000\n",
      "Epoch 104/500\n",
      "86/86 [==============================] - 1s 11ms/step - loss: 0.6920 - accuracy: 0.5349 - val_loss: 0.6921 - val_accuracy: 0.6000\n",
      "Epoch 105/500\n",
      "86/86 [==============================] - 1s 11ms/step - loss: 0.6921 - accuracy: 0.5000 - val_loss: 0.6920 - val_accuracy: 0.5500\n",
      "Epoch 106/500\n",
      "86/86 [==============================] - 1s 11ms/step - loss: 0.6920 - accuracy: 0.5000 - val_loss: 0.6920 - val_accuracy: 0.5500\n",
      "Epoch 107/500\n",
      "86/86 [==============================] - 1s 11ms/step - loss: 0.6921 - accuracy: 0.5465 - val_loss: 0.6920 - val_accuracy: 0.6000\n",
      "Epoch 108/500\n",
      "86/86 [==============================] - 1s 11ms/step - loss: 0.6920 - accuracy: 0.5233 - val_loss: 0.6920 - val_accuracy: 0.5500\n",
      "Epoch 109/500\n",
      "86/86 [==============================] - 1s 11ms/step - loss: 0.6923 - accuracy: 0.5233 - val_loss: 0.6920 - val_accuracy: 0.5000\n",
      "Epoch 110/500\n",
      "86/86 [==============================] - 1s 11ms/step - loss: 0.6923 - accuracy: 0.5000 - val_loss: 0.6920 - val_accuracy: 0.5000\n",
      "Epoch 111/500\n",
      "86/86 [==============================] - 1s 11ms/step - loss: 0.6919 - accuracy: 0.5000 - val_loss: 0.6920 - val_accuracy: 0.5000\n",
      "Epoch 112/500\n",
      "86/86 [==============================] - 1s 11ms/step - loss: 0.6923 - accuracy: 0.5000 - val_loss: 0.6920 - val_accuracy: 0.5500\n",
      "Epoch 113/500\n",
      "86/86 [==============================] - 1s 11ms/step - loss: 0.6919 - accuracy: 0.5233 - val_loss: 0.6920 - val_accuracy: 0.5500\n",
      "Epoch 114/500\n",
      "86/86 [==============================] - 1s 11ms/step - loss: 0.6919 - accuracy: 0.5233 - val_loss: 0.6920 - val_accuracy: 0.5500\n",
      "Epoch 115/500\n"
     ]
    },
    {
     "name": "stdout",
     "output_type": "stream",
     "text": [
      "86/86 [==============================] - 1s 11ms/step - loss: 0.6919 - accuracy: 0.5116 - val_loss: 0.6920 - val_accuracy: 0.5000\n",
      "Epoch 116/500\n",
      "86/86 [==============================] - 1s 11ms/step - loss: 0.6919 - accuracy: 0.5349 - val_loss: 0.6919 - val_accuracy: 0.5000\n",
      "Epoch 117/500\n",
      "86/86 [==============================] - 1s 11ms/step - loss: 0.6920 - accuracy: 0.5116 - val_loss: 0.6919 - val_accuracy: 0.5500\n",
      "Epoch 118/500\n",
      "86/86 [==============================] - 1s 11ms/step - loss: 0.6919 - accuracy: 0.5349 - val_loss: 0.6919 - val_accuracy: 0.5000\n",
      "Epoch 119/500\n",
      "86/86 [==============================] - 1s 11ms/step - loss: 0.6918 - accuracy: 0.5465 - val_loss: 0.6919 - val_accuracy: 0.5000\n",
      "Epoch 120/500\n",
      "86/86 [==============================] - 1s 11ms/step - loss: 0.6918 - accuracy: 0.5349 - val_loss: 0.6919 - val_accuracy: 0.5500\n",
      "Epoch 121/500\n",
      "86/86 [==============================] - 1s 11ms/step - loss: 0.6918 - accuracy: 0.5349 - val_loss: 0.6919 - val_accuracy: 0.5500\n",
      "Epoch 122/500\n",
      "86/86 [==============================] - 1s 11ms/step - loss: 0.6918 - accuracy: 0.5349 - val_loss: 0.6919 - val_accuracy: 0.5500\n",
      "Epoch 123/500\n",
      "86/86 [==============================] - 1s 11ms/step - loss: 0.6918 - accuracy: 0.5349 - val_loss: 0.6919 - val_accuracy: 0.5500\n",
      "Epoch 124/500\n",
      "86/86 [==============================] - 1s 11ms/step - loss: 0.6921 - accuracy: 0.4884 - val_loss: 0.6919 - val_accuracy: 0.5500\n",
      "Epoch 125/500\n",
      "86/86 [==============================] - 1s 11ms/step - loss: 0.6923 - accuracy: 0.5000 - val_loss: 0.6919 - val_accuracy: 0.6000\n",
      "Epoch 126/500\n",
      "86/86 [==============================] - 1s 11ms/step - loss: 0.6923 - accuracy: 0.4884 - val_loss: 0.6919 - val_accuracy: 0.6000\n",
      "Epoch 127/500\n",
      "86/86 [==============================] - 1s 11ms/step - loss: 0.6924 - accuracy: 0.5116 - val_loss: 0.6918 - val_accuracy: 0.5000\n",
      "Epoch 128/500\n",
      "86/86 [==============================] - 1s 11ms/step - loss: 0.6917 - accuracy: 0.5465 - val_loss: 0.6918 - val_accuracy: 0.5500\n",
      "Epoch 129/500\n",
      "86/86 [==============================] - 1s 11ms/step - loss: 0.6917 - accuracy: 0.5349 - val_loss: 0.6918 - val_accuracy: 0.5500\n",
      "Epoch 130/500\n",
      "86/86 [==============================] - 1s 11ms/step - loss: 0.6918 - accuracy: 0.5116 - val_loss: 0.6918 - val_accuracy: 0.5000\n",
      "Epoch 131/500\n",
      "86/86 [==============================] - 1s 11ms/step - loss: 0.6918 - accuracy: 0.4884 - val_loss: 0.6918 - val_accuracy: 0.5000\n",
      "Epoch 132/500\n",
      "86/86 [==============================] - 1s 11ms/step - loss: 0.6920 - accuracy: 0.4884 - val_loss: 0.6918 - val_accuracy: 0.5000\n",
      "Epoch 133/500\n",
      "86/86 [==============================] - 1s 11ms/step - loss: 0.6920 - accuracy: 0.5465 - val_loss: 0.6918 - val_accuracy: 0.5500\n",
      "Epoch 134/500\n",
      "86/86 [==============================] - 1s 11ms/step - loss: 0.6916 - accuracy: 0.5116 - val_loss: 0.6918 - val_accuracy: 0.5500\n",
      "Epoch 135/500\n",
      "86/86 [==============================] - 1s 11ms/step - loss: 0.6916 - accuracy: 0.5233 - val_loss: 0.6918 - val_accuracy: 0.5500\n",
      "Epoch 136/500\n",
      "86/86 [==============================] - 1s 11ms/step - loss: 0.6917 - accuracy: 0.5465 - val_loss: 0.6918 - val_accuracy: 0.5500\n",
      "Epoch 137/500\n",
      "86/86 [==============================] - 1s 11ms/step - loss: 0.6916 - accuracy: 0.5349 - val_loss: 0.6918 - val_accuracy: 0.5500\n",
      "Epoch 138/500\n",
      "86/86 [==============================] - 1s 11ms/step - loss: 0.6919 - accuracy: 0.5116 - val_loss: 0.6917 - val_accuracy: 0.5000\n",
      "Epoch 139/500\n",
      "86/86 [==============================] - 1s 11ms/step - loss: 0.6920 - accuracy: 0.5465 - val_loss: 0.6917 - val_accuracy: 0.5500\n",
      "Epoch 140/500\n",
      "86/86 [==============================] - 1s 11ms/step - loss: 0.6916 - accuracy: 0.5465 - val_loss: 0.6917 - val_accuracy: 0.5500\n",
      "Epoch 141/500\n",
      "86/86 [==============================] - 1s 11ms/step - loss: 0.6916 - accuracy: 0.5233 - val_loss: 0.6917 - val_accuracy: 0.5500\n",
      "Epoch 142/500\n",
      "86/86 [==============================] - 1s 11ms/step - loss: 0.6916 - accuracy: 0.5233 - val_loss: 0.6917 - val_accuracy: 0.5500\n",
      "Epoch 143/500\n",
      "86/86 [==============================] - 1s 11ms/step - loss: 0.6922 - accuracy: 0.5000 - val_loss: 0.6917 - val_accuracy: 0.5500\n",
      "Epoch 144/500\n",
      "86/86 [==============================] - 1s 11ms/step - loss: 0.6915 - accuracy: 0.5349 - val_loss: 0.6917 - val_accuracy: 0.5500\n",
      "Epoch 145/500\n",
      "86/86 [==============================] - 1s 11ms/step - loss: 0.6914 - accuracy: 0.5233 - val_loss: 0.6917 - val_accuracy: 0.5500\n",
      "Epoch 146/500\n",
      "86/86 [==============================] - 1s 11ms/step - loss: 0.6919 - accuracy: 0.5000 - val_loss: 0.6916 - val_accuracy: 0.5500\n",
      "Epoch 147/500\n",
      "86/86 [==============================] - 1s 11ms/step - loss: 0.6914 - accuracy: 0.5116 - val_loss: 0.6916 - val_accuracy: 0.5000\n",
      "Epoch 148/500\n",
      "86/86 [==============================] - 1s 11ms/step - loss: 0.6920 - accuracy: 0.5233 - val_loss: 0.6916 - val_accuracy: 0.5500\n",
      "Epoch 149/500\n",
      "86/86 [==============================] - 1s 11ms/step - loss: 0.6914 - accuracy: 0.5465 - val_loss: 0.6916 - val_accuracy: 0.5500\n",
      "Epoch 150/500\n",
      "86/86 [==============================] - 1s 12ms/step - loss: 0.6913 - accuracy: 0.5116 - val_loss: 0.6916 - val_accuracy: 0.5000\n",
      "Epoch 151/500\n",
      "86/86 [==============================] - 1s 11ms/step - loss: 0.6913 - accuracy: 0.5233 - val_loss: 0.6916 - val_accuracy: 0.5500\n",
      "Epoch 152/500\n",
      "86/86 [==============================] - 1s 11ms/step - loss: 0.6913 - accuracy: 0.5349 - val_loss: 0.6916 - val_accuracy: 0.5000\n",
      "Epoch 153/500\n",
      "86/86 [==============================] - 1s 11ms/step - loss: 0.6921 - accuracy: 0.4884 - val_loss: 0.6916 - val_accuracy: 0.5500\n",
      "Epoch 154/500\n",
      "86/86 [==============================] - 1s 11ms/step - loss: 0.6913 - accuracy: 0.5349 - val_loss: 0.6916 - val_accuracy: 0.6000\n",
      "Epoch 155/500\n",
      "86/86 [==============================] - 1s 11ms/step - loss: 0.6913 - accuracy: 0.5349 - val_loss: 0.6915 - val_accuracy: 0.6000\n",
      "Epoch 156/500\n",
      "86/86 [==============================] - 1s 11ms/step - loss: 0.6914 - accuracy: 0.5116 - val_loss: 0.6915 - val_accuracy: 0.6000\n",
      "Epoch 157/500\n",
      "86/86 [==============================] - 1s 11ms/step - loss: 0.6913 - accuracy: 0.5581 - val_loss: 0.6915 - val_accuracy: 0.5500\n",
      "Epoch 158/500\n",
      "86/86 [==============================] - 1s 11ms/step - loss: 0.6911 - accuracy: 0.5349 - val_loss: 0.6915 - val_accuracy: 0.6000\n",
      "Epoch 159/500\n",
      "86/86 [==============================] - 1s 11ms/step - loss: 0.6911 - accuracy: 0.5465 - val_loss: 0.6914 - val_accuracy: 0.5500\n",
      "Epoch 160/500\n",
      "86/86 [==============================] - 1s 11ms/step - loss: 0.6911 - accuracy: 0.5581 - val_loss: 0.6914 - val_accuracy: 0.5000\n",
      "Epoch 161/500\n",
      "86/86 [==============================] - 1s 11ms/step - loss: 0.6910 - accuracy: 0.5581 - val_loss: 0.6914 - val_accuracy: 0.5500\n",
      "Epoch 162/500\n",
      "86/86 [==============================] - 1s 11ms/step - loss: 0.6910 - accuracy: 0.5465 - val_loss: 0.6914 - val_accuracy: 0.5000\n",
      "Epoch 163/500\n",
      "86/86 [==============================] - 1s 11ms/step - loss: 0.6908 - accuracy: 0.5581 - val_loss: 0.6914 - val_accuracy: 0.5000\n",
      "Epoch 164/500\n",
      "86/86 [==============================] - 1s 11ms/step - loss: 0.6908 - accuracy: 0.5581 - val_loss: 0.6914 - val_accuracy: 0.6000\n",
      "Epoch 165/500\n",
      "86/86 [==============================] - 1s 11ms/step - loss: 0.6908 - accuracy: 0.5581 - val_loss: 0.6913 - val_accuracy: 0.5500\n",
      "Epoch 166/500\n",
      "86/86 [==============================] - 1s 11ms/step - loss: 0.6908 - accuracy: 0.5465 - val_loss: 0.6913 - val_accuracy: 0.5500\n",
      "Epoch 167/500\n",
      "86/86 [==============================] - 1s 11ms/step - loss: 0.6908 - accuracy: 0.5465 - val_loss: 0.6913 - val_accuracy: 0.5500\n",
      "Epoch 168/500\n",
      "86/86 [==============================] - 1s 11ms/step - loss: 0.6909 - accuracy: 0.5233 - val_loss: 0.6913 - val_accuracy: 0.5000\n",
      "Epoch 169/500\n",
      "86/86 [==============================] - 1s 11ms/step - loss: 0.6909 - accuracy: 0.5581 - val_loss: 0.6913 - val_accuracy: 0.5500\n",
      "Epoch 170/500\n",
      "86/86 [==============================] - 1s 11ms/step - loss: 0.6906 - accuracy: 0.5698 - val_loss: 0.6913 - val_accuracy: 0.5000\n",
      "Epoch 171/500\n",
      "86/86 [==============================] - 1s 11ms/step - loss: 0.6909 - accuracy: 0.5233 - val_loss: 0.6913 - val_accuracy: 0.5500\n"
     ]
    },
    {
     "name": "stdout",
     "output_type": "stream",
     "text": [
      "Epoch 172/500\n",
      "86/86 [==============================] - 1s 11ms/step - loss: 0.6912 - accuracy: 0.4767 - val_loss: 0.6912 - val_accuracy: 0.5500\n",
      "Epoch 173/500\n",
      "86/86 [==============================] - 1s 11ms/step - loss: 0.6906 - accuracy: 0.5349 - val_loss: 0.6912 - val_accuracy: 0.5000\n",
      "Epoch 174/500\n",
      "86/86 [==============================] - 1s 11ms/step - loss: 0.6905 - accuracy: 0.5233 - val_loss: 0.6912 - val_accuracy: 0.5500\n",
      "Epoch 175/500\n",
      "86/86 [==============================] - 1s 11ms/step - loss: 0.6904 - accuracy: 0.5465 - val_loss: 0.6912 - val_accuracy: 0.5000\n",
      "Epoch 176/500\n",
      "86/86 [==============================] - 1s 11ms/step - loss: 0.6912 - accuracy: 0.5000 - val_loss: 0.6912 - val_accuracy: 0.5500\n",
      "Epoch 177/500\n",
      "86/86 [==============================] - 1s 11ms/step - loss: 0.6905 - accuracy: 0.5233 - val_loss: 0.6912 - val_accuracy: 0.5500\n",
      "Epoch 178/500\n",
      "86/86 [==============================] - 1s 11ms/step - loss: 0.6905 - accuracy: 0.5349 - val_loss: 0.6912 - val_accuracy: 0.5000\n",
      "Epoch 179/500\n",
      "86/86 [==============================] - 1s 11ms/step - loss: 0.6905 - accuracy: 0.5581 - val_loss: 0.6912 - val_accuracy: 0.5000\n",
      "Epoch 180/500\n",
      "86/86 [==============================] - 1s 11ms/step - loss: 0.6904 - accuracy: 0.5581 - val_loss: 0.6912 - val_accuracy: 0.5000\n",
      "Epoch 181/500\n",
      "86/86 [==============================] - 1s 11ms/step - loss: 0.6903 - accuracy: 0.5698 - val_loss: 0.6912 - val_accuracy: 0.5000\n",
      "Epoch 182/500\n",
      "86/86 [==============================] - 1s 11ms/step - loss: 0.6904 - accuracy: 0.5581 - val_loss: 0.6912 - val_accuracy: 0.5500\n",
      "Epoch 183/500\n",
      "86/86 [==============================] - 1s 12ms/step - loss: 0.6904 - accuracy: 0.5465 - val_loss: 0.6912 - val_accuracy: 0.5500\n",
      "Epoch 184/500\n",
      "86/86 [==============================] - 1s 12ms/step - loss: 0.6906 - accuracy: 0.5698 - val_loss: 0.6912 - val_accuracy: 0.5500\n",
      "Epoch 185/500\n",
      "86/86 [==============================] - 1s 11ms/step - loss: 0.6909 - accuracy: 0.5930 - val_loss: 0.6912 - val_accuracy: 0.5500\n",
      "Epoch 186/500\n",
      "86/86 [==============================] - 1s 11ms/step - loss: 0.6901 - accuracy: 0.5581 - val_loss: 0.6911 - val_accuracy: 0.5000\n",
      "Epoch 187/500\n",
      "86/86 [==============================] - 1s 11ms/step - loss: 0.6901 - accuracy: 0.5349 - val_loss: 0.6911 - val_accuracy: 0.5000\n",
      "Epoch 188/500\n",
      "86/86 [==============================] - 1s 11ms/step - loss: 0.6910 - accuracy: 0.5233 - val_loss: 0.6912 - val_accuracy: 0.6000\n",
      "Epoch 189/500\n",
      "86/86 [==============================] - 1s 11ms/step - loss: 0.6900 - accuracy: 0.5465 - val_loss: 0.6911 - val_accuracy: 0.6000\n",
      "Epoch 190/500\n",
      "86/86 [==============================] - 1s 11ms/step - loss: 0.6902 - accuracy: 0.5233 - val_loss: 0.6911 - val_accuracy: 0.6000\n",
      "Epoch 191/500\n",
      "86/86 [==============================] - 1s 11ms/step - loss: 0.6901 - accuracy: 0.5349 - val_loss: 0.6911 - val_accuracy: 0.5500\n",
      "Epoch 192/500\n",
      "86/86 [==============================] - 1s 11ms/step - loss: 0.6908 - accuracy: 0.5233 - val_loss: 0.6911 - val_accuracy: 0.5500\n",
      "Epoch 193/500\n",
      "86/86 [==============================] - 1s 11ms/step - loss: 0.6906 - accuracy: 0.5581 - val_loss: 0.6911 - val_accuracy: 0.5000\n",
      "Epoch 194/500\n",
      "86/86 [==============================] - 1s 11ms/step - loss: 0.6898 - accuracy: 0.5698 - val_loss: 0.6911 - val_accuracy: 0.5500\n",
      "Epoch 195/500\n",
      "86/86 [==============================] - 1s 11ms/step - loss: 0.6898 - accuracy: 0.5698 - val_loss: 0.6911 - val_accuracy: 0.5500\n",
      "Epoch 196/500\n",
      "86/86 [==============================] - 1s 11ms/step - loss: 0.6900 - accuracy: 0.5581 - val_loss: 0.6911 - val_accuracy: 0.5500\n",
      "Epoch 197/500\n",
      "86/86 [==============================] - 1s 11ms/step - loss: 0.6902 - accuracy: 0.5465 - val_loss: 0.6911 - val_accuracy: 0.5500\n",
      "Epoch 198/500\n",
      "86/86 [==============================] - 1s 11ms/step - loss: 0.6899 - accuracy: 0.5465 - val_loss: 0.6911 - val_accuracy: 0.5000\n",
      "Epoch 199/500\n",
      "86/86 [==============================] - 1s 11ms/step - loss: 0.6897 - accuracy: 0.5698 - val_loss: 0.6911 - val_accuracy: 0.5000\n",
      "Epoch 200/500\n",
      "86/86 [==============================] - 1s 11ms/step - loss: 0.6898 - accuracy: 0.5581 - val_loss: 0.6910 - val_accuracy: 0.5000\n",
      "Epoch 201/500\n",
      "86/86 [==============================] - 1s 11ms/step - loss: 0.6896 - accuracy: 0.5581 - val_loss: 0.6910 - val_accuracy: 0.5000\n",
      "Epoch 202/500\n",
      "86/86 [==============================] - 1s 11ms/step - loss: 0.6898 - accuracy: 0.5465 - val_loss: 0.6911 - val_accuracy: 0.5500\n",
      "Epoch 203/500\n",
      "86/86 [==============================] - 1s 11ms/step - loss: 0.6897 - accuracy: 0.5233 - val_loss: 0.6910 - val_accuracy: 0.5500\n",
      "Epoch 204/500\n",
      "86/86 [==============================] - 1s 11ms/step - loss: 0.6900 - accuracy: 0.5233 - val_loss: 0.6911 - val_accuracy: 0.6000\n",
      "Epoch 205/500\n",
      "86/86 [==============================] - 1s 11ms/step - loss: 0.6897 - accuracy: 0.5465 - val_loss: 0.6910 - val_accuracy: 0.5000\n",
      "Epoch 206/500\n",
      "86/86 [==============================] - 1s 11ms/step - loss: 0.6894 - accuracy: 0.5581 - val_loss: 0.6910 - val_accuracy: 0.5000\n",
      "Epoch 207/500\n",
      "86/86 [==============================] - 1s 11ms/step - loss: 0.6894 - accuracy: 0.6047 - val_loss: 0.6910 - val_accuracy: 0.4500\n",
      "Epoch 208/500\n",
      "86/86 [==============================] - 1s 11ms/step - loss: 0.6893 - accuracy: 0.5930 - val_loss: 0.6910 - val_accuracy: 0.4500\n",
      "Epoch 209/500\n",
      "86/86 [==============================] - 1s 11ms/step - loss: 0.6899 - accuracy: 0.5581 - val_loss: 0.6910 - val_accuracy: 0.5000\n",
      "Epoch 210/500\n",
      "86/86 [==============================] - 1s 11ms/step - loss: 0.6894 - accuracy: 0.5581 - val_loss: 0.6910 - val_accuracy: 0.5000\n",
      "Epoch 211/500\n",
      "86/86 [==============================] - 1s 11ms/step - loss: 0.6892 - accuracy: 0.5814 - val_loss: 0.6910 - val_accuracy: 0.4500\n",
      "Epoch 212/500\n",
      "86/86 [==============================] - 1s 11ms/step - loss: 0.6905 - accuracy: 0.5581 - val_loss: 0.6910 - val_accuracy: 0.5500\n",
      "Epoch 213/500\n",
      "86/86 [==============================] - 1s 11ms/step - loss: 0.6893 - accuracy: 0.5698 - val_loss: 0.6910 - val_accuracy: 0.4500\n",
      "Epoch 214/500\n",
      "86/86 [==============================] - 1s 11ms/step - loss: 0.6905 - accuracy: 0.5233 - val_loss: 0.6910 - val_accuracy: 0.5500\n",
      "Epoch 215/500\n",
      "86/86 [==============================] - 1s 11ms/step - loss: 0.6903 - accuracy: 0.5116 - val_loss: 0.6910 - val_accuracy: 0.5500\n",
      "Epoch 216/500\n",
      "86/86 [==============================] - 1s 11ms/step - loss: 0.6894 - accuracy: 0.5349 - val_loss: 0.6910 - val_accuracy: 0.5000\n",
      "Epoch 217/500\n",
      "86/86 [==============================] - 1s 11ms/step - loss: 0.6918 - accuracy: 0.5349 - val_loss: 0.6910 - val_accuracy: 0.5500\n",
      "Epoch 218/500\n",
      "86/86 [==============================] - 1s 11ms/step - loss: 0.6933 - accuracy: 0.4767 - val_loss: 0.6911 - val_accuracy: 0.5500\n",
      "Epoch 219/500\n",
      "86/86 [==============================] - 1s 11ms/step - loss: 0.6914 - accuracy: 0.5465 - val_loss: 0.6912 - val_accuracy: 0.5500\n",
      "Epoch 220/500\n",
      "86/86 [==============================] - 1s 11ms/step - loss: 0.6890 - accuracy: 0.5465 - val_loss: 0.6911 - val_accuracy: 0.6000\n",
      "Epoch 221/500\n",
      "86/86 [==============================] - 1s 11ms/step - loss: 0.6897 - accuracy: 0.5465 - val_loss: 0.6910 - val_accuracy: 0.4500\n",
      "Epoch 222/500\n",
      "86/86 [==============================] - 1s 11ms/step - loss: 0.6897 - accuracy: 0.5581 - val_loss: 0.6910 - val_accuracy: 0.4500\n",
      "Epoch 223/500\n",
      "86/86 [==============================] - 1s 11ms/step - loss: 0.6885 - accuracy: 0.5581 - val_loss: 0.6910 - val_accuracy: 0.5500\n",
      "Epoch 224/500\n",
      "86/86 [==============================] - 1s 11ms/step - loss: 0.6885 - accuracy: 0.5581 - val_loss: 0.6910 - val_accuracy: 0.5500\n",
      "Epoch 225/500\n",
      "86/86 [==============================] - 1s 11ms/step - loss: 0.6892 - accuracy: 0.5698 - val_loss: 0.6910 - val_accuracy: 0.5500\n",
      "Epoch 226/500\n",
      "86/86 [==============================] - 1s 11ms/step - loss: 0.6893 - accuracy: 0.5581 - val_loss: 0.6911 - val_accuracy: 0.6000\n",
      "Epoch 227/500\n",
      "86/86 [==============================] - 1s 11ms/step - loss: 0.6893 - accuracy: 0.5698 - val_loss: 0.6910 - val_accuracy: 0.5000\n",
      "Epoch 228/500\n",
      "86/86 [==============================] - 1s 11ms/step - loss: 0.6885 - accuracy: 0.5698 - val_loss: 0.6910 - val_accuracy: 0.4500\n"
     ]
    },
    {
     "name": "stdout",
     "output_type": "stream",
     "text": [
      "Epoch 229/500\n",
      "86/86 [==============================] - 1s 11ms/step - loss: 0.6911 - accuracy: 0.5116 - val_loss: 0.6910 - val_accuracy: 0.6000\n",
      "Epoch 230/500\n",
      "86/86 [==============================] - 1s 11ms/step - loss: 0.6882 - accuracy: 0.5814 - val_loss: 0.6910 - val_accuracy: 0.5000\n",
      "Epoch 231/500\n",
      "86/86 [==============================] - 1s 11ms/step - loss: 0.6881 - accuracy: 0.5698 - val_loss: 0.6910 - val_accuracy: 0.4500\n",
      "Epoch 232/500\n",
      "86/86 [==============================] - 1s 11ms/step - loss: 0.6880 - accuracy: 0.6047 - val_loss: 0.6910 - val_accuracy: 0.5000\n",
      "Epoch 233/500\n",
      "86/86 [==============================] - 1s 11ms/step - loss: 0.6897 - accuracy: 0.5465 - val_loss: 0.6910 - val_accuracy: 0.5500\n",
      "Epoch 234/500\n",
      "86/86 [==============================] - 1s 11ms/step - loss: 0.6900 - accuracy: 0.5116 - val_loss: 0.6910 - val_accuracy: 0.4500\n",
      "Epoch 235/500\n",
      "86/86 [==============================] - 1s 11ms/step - loss: 0.6878 - accuracy: 0.5930 - val_loss: 0.6910 - val_accuracy: 0.4500\n",
      "Epoch 236/500\n",
      "86/86 [==============================] - 1s 11ms/step - loss: 0.6877 - accuracy: 0.5814 - val_loss: 0.6910 - val_accuracy: 0.4500\n",
      "Epoch 237/500\n",
      "86/86 [==============================] - 1s 11ms/step - loss: 0.6876 - accuracy: 0.5930 - val_loss: 0.6910 - val_accuracy: 0.4500\n",
      "Epoch 238/500\n",
      "86/86 [==============================] - 1s 11ms/step - loss: 0.6876 - accuracy: 0.5930 - val_loss: 0.6910 - val_accuracy: 0.4500\n",
      "Epoch 239/500\n",
      "86/86 [==============================] - 1s 11ms/step - loss: 0.6948 - accuracy: 0.5116 - val_loss: 0.6910 - val_accuracy: 0.6000\n",
      "Epoch 240/500\n",
      "86/86 [==============================] - 1s 11ms/step - loss: 0.6875 - accuracy: 0.5698 - val_loss: 0.6910 - val_accuracy: 0.5000\n",
      "Epoch 241/500\n",
      "86/86 [==============================] - 1s 11ms/step - loss: 0.6879 - accuracy: 0.5930 - val_loss: 0.6911 - val_accuracy: 0.5500\n",
      "Epoch 242/500\n",
      "86/86 [==============================] - 1s 11ms/step - loss: 0.6877 - accuracy: 0.5930 - val_loss: 0.6910 - val_accuracy: 0.5000\n",
      "Epoch 243/500\n",
      "86/86 [==============================] - 1s 11ms/step - loss: 0.6879 - accuracy: 0.5698 - val_loss: 0.6910 - val_accuracy: 0.5500\n",
      "Epoch 244/500\n",
      "86/86 [==============================] - 1s 11ms/step - loss: 0.6883 - accuracy: 0.5581 - val_loss: 0.6910 - val_accuracy: 0.5000\n",
      "Epoch 245/500\n",
      "86/86 [==============================] - 1s 11ms/step - loss: 0.6874 - accuracy: 0.5581 - val_loss: 0.6910 - val_accuracy: 0.5000\n",
      "Epoch 246/500\n",
      "86/86 [==============================] - 1s 11ms/step - loss: 0.6871 - accuracy: 0.5698 - val_loss: 0.6910 - val_accuracy: 0.4500\n",
      "Epoch 247/500\n",
      "86/86 [==============================] - 1s 11ms/step - loss: 0.6869 - accuracy: 0.5814 - val_loss: 0.6910 - val_accuracy: 0.5500\n",
      "Epoch 248/500\n",
      "86/86 [==============================] - 1s 11ms/step - loss: 0.6868 - accuracy: 0.6047 - val_loss: 0.6910 - val_accuracy: 0.5500\n",
      "Epoch 249/500\n",
      "86/86 [==============================] - 1s 11ms/step - loss: 0.6865 - accuracy: 0.6047 - val_loss: 0.6910 - val_accuracy: 0.4500\n",
      "Epoch 250/500\n",
      "86/86 [==============================] - 1s 11ms/step - loss: 0.6891 - accuracy: 0.5581 - val_loss: 0.6910 - val_accuracy: 0.5000\n",
      "Epoch 251/500\n",
      "86/86 [==============================] - 1s 11ms/step - loss: 0.6869 - accuracy: 0.5116 - val_loss: 0.6910 - val_accuracy: 0.6000\n",
      "Epoch 252/500\n",
      "86/86 [==============================] - 1s 11ms/step - loss: 0.6889 - accuracy: 0.5349 - val_loss: 0.6910 - val_accuracy: 0.6000\n",
      "Epoch 253/500\n",
      "86/86 [==============================] - 1s 11ms/step - loss: 0.6864 - accuracy: 0.5698 - val_loss: 0.6910 - val_accuracy: 0.5000\n",
      "Epoch 254/500\n",
      "86/86 [==============================] - 1s 11ms/step - loss: 0.6921 - accuracy: 0.5349 - val_loss: 0.6914 - val_accuracy: 0.5500\n",
      "Epoch 255/500\n",
      "86/86 [==============================] - 1s 11ms/step - loss: 0.6861 - accuracy: 0.5581 - val_loss: 0.6909 - val_accuracy: 0.5000\n",
      "Epoch 256/500\n",
      "86/86 [==============================] - 1s 11ms/step - loss: 0.6859 - accuracy: 0.6047 - val_loss: 0.6910 - val_accuracy: 0.6000\n",
      "Epoch 257/500\n",
      "86/86 [==============================] - 1s 11ms/step - loss: 0.6918 - accuracy: 0.4884 - val_loss: 0.6914 - val_accuracy: 0.6000\n",
      "Epoch 258/500\n",
      "86/86 [==============================] - 1s 11ms/step - loss: 0.6888 - accuracy: 0.5349 - val_loss: 0.6909 - val_accuracy: 0.6000\n",
      "Epoch 259/500\n",
      "86/86 [==============================] - 1s 11ms/step - loss: 0.6924 - accuracy: 0.5116 - val_loss: 0.6915 - val_accuracy: 0.5500\n",
      "Epoch 260/500\n",
      "86/86 [==============================] - 1s 11ms/step - loss: 0.6862 - accuracy: 0.5581 - val_loss: 0.6911 - val_accuracy: 0.6000\n",
      "Epoch 261/500\n",
      "86/86 [==============================] - 1s 11ms/step - loss: 0.6926 - accuracy: 0.5233 - val_loss: 0.6908 - val_accuracy: 0.5000\n",
      "Epoch 262/500\n",
      "86/86 [==============================] - 1s 11ms/step - loss: 0.6868 - accuracy: 0.5465 - val_loss: 0.6909 - val_accuracy: 0.5000\n",
      "Epoch 263/500\n",
      "86/86 [==============================] - 1s 11ms/step - loss: 0.6853 - accuracy: 0.5930 - val_loss: 0.6908 - val_accuracy: 0.5000\n",
      "Epoch 264/500\n",
      "86/86 [==============================] - 1s 11ms/step - loss: 0.6891 - accuracy: 0.5698 - val_loss: 0.6908 - val_accuracy: 0.6000\n",
      "Epoch 265/500\n",
      "86/86 [==============================] - 1s 11ms/step - loss: 0.6848 - accuracy: 0.5465 - val_loss: 0.6909 - val_accuracy: 0.5000\n",
      "Epoch 266/500\n",
      "86/86 [==============================] - 1s 11ms/step - loss: 0.6916 - accuracy: 0.5698 - val_loss: 0.6914 - val_accuracy: 0.5500\n",
      "Epoch 267/500\n",
      "86/86 [==============================] - 1s 11ms/step - loss: 0.6879 - accuracy: 0.5116 - val_loss: 0.6908 - val_accuracy: 0.5000\n",
      "Epoch 268/500\n",
      "86/86 [==============================] - 1s 11ms/step - loss: 0.6873 - accuracy: 0.5465 - val_loss: 0.6907 - val_accuracy: 0.5000\n",
      "Epoch 269/500\n",
      "86/86 [==============================] - 1s 11ms/step - loss: 0.6877 - accuracy: 0.5581 - val_loss: 0.6909 - val_accuracy: 0.5500\n",
      "Epoch 270/500\n",
      "86/86 [==============================] - 1s 11ms/step - loss: 0.6912 - accuracy: 0.5814 - val_loss: 0.6911 - val_accuracy: 0.5500\n",
      "Epoch 271/500\n",
      "86/86 [==============================] - 1s 11ms/step - loss: 0.6839 - accuracy: 0.6047 - val_loss: 0.6907 - val_accuracy: 0.6000\n",
      "Epoch 272/500\n",
      "86/86 [==============================] - 1s 11ms/step - loss: 0.6841 - accuracy: 0.5930 - val_loss: 0.6907 - val_accuracy: 0.6000\n",
      "Epoch 273/500\n",
      "86/86 [==============================] - 1s 11ms/step - loss: 0.6866 - accuracy: 0.5116 - val_loss: 0.6907 - val_accuracy: 0.6000\n",
      "Epoch 274/500\n",
      "86/86 [==============================] - 1s 11ms/step - loss: 0.6859 - accuracy: 0.5116 - val_loss: 0.6905 - val_accuracy: 0.5500\n",
      "Epoch 275/500\n",
      "86/86 [==============================] - 1s 11ms/step - loss: 0.6860 - accuracy: 0.5349 - val_loss: 0.6908 - val_accuracy: 0.6000\n",
      "Epoch 276/500\n",
      "86/86 [==============================] - 1s 11ms/step - loss: 0.6895 - accuracy: 0.5233 - val_loss: 0.6906 - val_accuracy: 0.5000\n",
      "Epoch 277/500\n",
      "86/86 [==============================] - 1s 11ms/step - loss: 0.6886 - accuracy: 0.5581 - val_loss: 0.6903 - val_accuracy: 0.6000\n",
      "Epoch 278/500\n"
     ]
    },
    {
     "ename": "KeyboardInterrupt",
     "evalue": "",
     "output_type": "error",
     "traceback": [
      "\u001b[1;31m---------------------------------------------------------------------------\u001b[0m",
      "\u001b[1;31mKeyboardInterrupt\u001b[0m                         Traceback (most recent call last)",
      "\u001b[1;32m<ipython-input-164-3546b2232ae8>\u001b[0m in \u001b[0;36m<module>\u001b[1;34m\u001b[0m\n\u001b[0;32m     22\u001b[0m \u001b[1;33m\u001b[0m\u001b[0m\n\u001b[0;32m     23\u001b[0m his = model.fit(x=addfeatures_train, y=addtrain_labels,batch_size=43, epochs=500,shuffle=True, verbose=1, \n\u001b[1;32m---> 24\u001b[1;33m                validation_data=(addfeatures_test,addtest_labels))\n\u001b[0m\u001b[0;32m     25\u001b[0m \u001b[1;33m\u001b[0m\u001b[0m\n",
      "\u001b[1;32mD:\\anaconda\\lib\\site-packages\\keras\\engine\\training.py\u001b[0m in \u001b[0;36mfit\u001b[1;34m(self, x, y, batch_size, epochs, verbose, callbacks, validation_split, validation_data, shuffle, class_weight, sample_weight, initial_epoch, steps_per_epoch, validation_steps, validation_freq, max_queue_size, workers, use_multiprocessing, **kwargs)\u001b[0m\n\u001b[0;32m   1237\u001b[0m                                         \u001b[0msteps_per_epoch\u001b[0m\u001b[1;33m=\u001b[0m\u001b[0msteps_per_epoch\u001b[0m\u001b[1;33m,\u001b[0m\u001b[1;33m\u001b[0m\u001b[1;33m\u001b[0m\u001b[0m\n\u001b[0;32m   1238\u001b[0m                                         \u001b[0mvalidation_steps\u001b[0m\u001b[1;33m=\u001b[0m\u001b[0mvalidation_steps\u001b[0m\u001b[1;33m,\u001b[0m\u001b[1;33m\u001b[0m\u001b[1;33m\u001b[0m\u001b[0m\n\u001b[1;32m-> 1239\u001b[1;33m                                         validation_freq=validation_freq)\n\u001b[0m\u001b[0;32m   1240\u001b[0m \u001b[1;33m\u001b[0m\u001b[0m\n\u001b[0;32m   1241\u001b[0m     def evaluate(self,\n",
      "\u001b[1;32mD:\\anaconda\\lib\\site-packages\\keras\\engine\\training_arrays.py\u001b[0m in \u001b[0;36mfit_loop\u001b[1;34m(model, fit_function, fit_inputs, out_labels, batch_size, epochs, verbose, callbacks, val_function, val_inputs, shuffle, initial_epoch, steps_per_epoch, validation_steps, validation_freq)\u001b[0m\n\u001b[0;32m    194\u001b[0m                     \u001b[0mins_batch\u001b[0m\u001b[1;33m[\u001b[0m\u001b[0mi\u001b[0m\u001b[1;33m]\u001b[0m \u001b[1;33m=\u001b[0m \u001b[0mins_batch\u001b[0m\u001b[1;33m[\u001b[0m\u001b[0mi\u001b[0m\u001b[1;33m]\u001b[0m\u001b[1;33m.\u001b[0m\u001b[0mtoarray\u001b[0m\u001b[1;33m(\u001b[0m\u001b[1;33m)\u001b[0m\u001b[1;33m\u001b[0m\u001b[1;33m\u001b[0m\u001b[0m\n\u001b[0;32m    195\u001b[0m \u001b[1;33m\u001b[0m\u001b[0m\n\u001b[1;32m--> 196\u001b[1;33m                 \u001b[0mouts\u001b[0m \u001b[1;33m=\u001b[0m \u001b[0mfit_function\u001b[0m\u001b[1;33m(\u001b[0m\u001b[0mins_batch\u001b[0m\u001b[1;33m)\u001b[0m\u001b[1;33m\u001b[0m\u001b[1;33m\u001b[0m\u001b[0m\n\u001b[0m\u001b[0;32m    197\u001b[0m                 \u001b[0mouts\u001b[0m \u001b[1;33m=\u001b[0m \u001b[0mto_list\u001b[0m\u001b[1;33m(\u001b[0m\u001b[0mouts\u001b[0m\u001b[1;33m)\u001b[0m\u001b[1;33m\u001b[0m\u001b[1;33m\u001b[0m\u001b[0m\n\u001b[0;32m    198\u001b[0m                 \u001b[1;32mfor\u001b[0m \u001b[0ml\u001b[0m\u001b[1;33m,\u001b[0m \u001b[0mo\u001b[0m \u001b[1;32min\u001b[0m \u001b[0mzip\u001b[0m\u001b[1;33m(\u001b[0m\u001b[0mout_labels\u001b[0m\u001b[1;33m,\u001b[0m \u001b[0mouts\u001b[0m\u001b[1;33m)\u001b[0m\u001b[1;33m:\u001b[0m\u001b[1;33m\u001b[0m\u001b[1;33m\u001b[0m\u001b[0m\n",
      "\u001b[1;32mD:\\anaconda\\lib\\site-packages\\tensorflow_core\\python\\keras\\backend.py\u001b[0m in \u001b[0;36m__call__\u001b[1;34m(self, inputs)\u001b[0m\n\u001b[0;32m   3474\u001b[0m \u001b[1;33m\u001b[0m\u001b[0m\n\u001b[0;32m   3475\u001b[0m     fetched = self._callable_fn(*array_vals,\n\u001b[1;32m-> 3476\u001b[1;33m                                 run_metadata=self.run_metadata)\n\u001b[0m\u001b[0;32m   3477\u001b[0m     \u001b[0mself\u001b[0m\u001b[1;33m.\u001b[0m\u001b[0m_call_fetch_callbacks\u001b[0m\u001b[1;33m(\u001b[0m\u001b[0mfetched\u001b[0m\u001b[1;33m[\u001b[0m\u001b[1;33m-\u001b[0m\u001b[0mlen\u001b[0m\u001b[1;33m(\u001b[0m\u001b[0mself\u001b[0m\u001b[1;33m.\u001b[0m\u001b[0m_fetches\u001b[0m\u001b[1;33m)\u001b[0m\u001b[1;33m:\u001b[0m\u001b[1;33m]\u001b[0m\u001b[1;33m)\u001b[0m\u001b[1;33m\u001b[0m\u001b[1;33m\u001b[0m\u001b[0m\n\u001b[0;32m   3478\u001b[0m     output_structure = nest.pack_sequence_as(\n",
      "\u001b[1;32mD:\\anaconda\\lib\\site-packages\\tensorflow_core\\python\\client\\session.py\u001b[0m in \u001b[0;36m__call__\u001b[1;34m(self, *args, **kwargs)\u001b[0m\n\u001b[0;32m   1470\u001b[0m         ret = tf_session.TF_SessionRunCallable(self._session._session,\n\u001b[0;32m   1471\u001b[0m                                                \u001b[0mself\u001b[0m\u001b[1;33m.\u001b[0m\u001b[0m_handle\u001b[0m\u001b[1;33m,\u001b[0m \u001b[0margs\u001b[0m\u001b[1;33m,\u001b[0m\u001b[1;33m\u001b[0m\u001b[1;33m\u001b[0m\u001b[0m\n\u001b[1;32m-> 1472\u001b[1;33m                                                run_metadata_ptr)\n\u001b[0m\u001b[0;32m   1473\u001b[0m         \u001b[1;32mif\u001b[0m \u001b[0mrun_metadata\u001b[0m\u001b[1;33m:\u001b[0m\u001b[1;33m\u001b[0m\u001b[1;33m\u001b[0m\u001b[0m\n\u001b[0;32m   1474\u001b[0m           \u001b[0mproto_data\u001b[0m \u001b[1;33m=\u001b[0m \u001b[0mtf_session\u001b[0m\u001b[1;33m.\u001b[0m\u001b[0mTF_GetBuffer\u001b[0m\u001b[1;33m(\u001b[0m\u001b[0mrun_metadata_ptr\u001b[0m\u001b[1;33m)\u001b[0m\u001b[1;33m\u001b[0m\u001b[1;33m\u001b[0m\u001b[0m\n",
      "\u001b[1;31mKeyboardInterrupt\u001b[0m: "
     ]
    }
   ],
   "source": [
    "from keras.models import Sequential\n",
    "from keras.layers import LSTM, Dense\n",
    "import numpy as np\n",
    "from keras.optimizers import SGD\n",
    "\n",
    "data_dim = 84\n",
    "timesteps = 296\n",
    "num_classes = 1\n",
    "\n",
    "# 期望输入数据尺寸: (batch_size, timesteps, data_dim)\n",
    "model = Sequential()\n",
    "model.add(LSTM(84, return_sequences=True,\n",
    "               input_shape=(timesteps, data_dim)))  # 返回维度为 32 的向量序列\n",
    "model.add(LSTM(42, return_sequences=True))  # 返回维度为 32 的向量序列\n",
    "model.add(LSTM(21))  # 返回维度为 32 的单个向量\n",
    "model.add(Dense(1, activation='sigmoid'))\n",
    "\n",
    "sgd = SGD(lr=0.001, decay=1e-6, momentum=0.9, nesterov=True)\n",
    "model.compile(loss='binary_crossentropy',\n",
    "              optimizer=sgd,\n",
    "              metrics=['accuracy'])\n",
    "\n",
    "his = model.fit(x=addfeatures_train, y=addtrain_labels,batch_size=43, epochs=500,shuffle=True, verbose=1, \n",
    "               validation_data=(addfeatures_test,addtest_labels))\n",
    "\n"
   ]
  },
  {
   "cell_type": "code",
   "execution_count": null,
   "metadata": {},
   "outputs": [],
   "source": []
  },
  {
   "cell_type": "code",
   "execution_count": null,
   "metadata": {},
   "outputs": [],
   "source": []
  },
  {
   "cell_type": "code",
   "execution_count": 106,
   "metadata": {},
   "outputs": [],
   "source": [
    "from nilearn.connectome import ConnectivityMeasure\n",
    "from nilearn.connectome import sym_matrix_to_vec\n",
    "\n",
    "conn_est = ConnectivityMeasure(kind = 'covariance')\n",
    "addfeatures_train = conn_est.fit_transform(addfeatures_train)\n",
    "addfeatures_train = sym_matrix_to_vec(addfeatures_train)\n",
    "\n",
    "addfeatures_test = conn_est.fit_transform(addfeatures_test)\n",
    "addfeatures_test = sym_matrix_to_vec(addfeatures_test)"
   ]
  },
  {
   "cell_type": "code",
   "execution_count": 107,
   "metadata": {},
   "outputs": [
    {
     "data": {
      "text/plain": [
       "(86, 3570)"
      ]
     },
     "execution_count": 107,
     "metadata": {},
     "output_type": "execute_result"
    }
   ],
   "source": [
    "addfeatures_train.shape"
   ]
  },
  {
   "cell_type": "code",
   "execution_count": null,
   "metadata": {},
   "outputs": [],
   "source": []
  },
  {
   "cell_type": "code",
   "execution_count": null,
   "metadata": {},
   "outputs": [],
   "source": []
  },
  {
   "cell_type": "code",
   "execution_count": null,
   "metadata": {},
   "outputs": [],
   "source": []
  },
  {
   "cell_type": "code",
   "execution_count": null,
   "metadata": {},
   "outputs": [],
   "source": []
  },
  {
   "cell_type": "code",
   "execution_count": null,
   "metadata": {},
   "outputs": [],
   "source": []
  },
  {
   "cell_type": "code",
   "execution_count": null,
   "metadata": {},
   "outputs": [],
   "source": []
  },
  {
   "cell_type": "code",
   "execution_count": null,
   "metadata": {},
   "outputs": [],
   "source": []
  },
  {
   "cell_type": "code",
   "execution_count": 87,
   "metadata": {},
   "outputs": [],
   "source": [
    "from nilearn.connectome import ConnectivityMeasure\n",
    "from nilearn.connectome import sym_matrix_to_vec\n",
    "\n",
    "conn_est = ConnectivityMeasure(kind = 'covariance')\n",
    "addfeatures_train = conn_est.fit_transform(addfeatures_train)\n",
    "addfeatures_train = sym_matrix_to_vec(addfeatures_train)\n",
    "\n",
    "addfeatures_test = conn_est.fit_transform(addfeatures_test)\n",
    "addfeatures_test = sym_matrix_to_vec(addfeatures_test)"
   ]
  },
  {
   "cell_type": "code",
   "execution_count": 88,
   "metadata": {},
   "outputs": [
    {
     "data": {
      "text/plain": [
       "(86, 43956)"
      ]
     },
     "execution_count": 88,
     "metadata": {},
     "output_type": "execute_result"
    }
   ],
   "source": [
    "addfeatures_train.shape"
   ]
  },
  {
   "cell_type": "code",
   "execution_count": null,
   "metadata": {},
   "outputs": [],
   "source": []
  },
  {
   "cell_type": "code",
   "execution_count": null,
   "metadata": {},
   "outputs": [],
   "source": []
  },
  {
   "cell_type": "code",
   "execution_count": null,
   "metadata": {},
   "outputs": [],
   "source": []
  },
  {
   "cell_type": "code",
   "execution_count": null,
   "metadata": {},
   "outputs": [],
   "source": []
  },
  {
   "cell_type": "code",
   "execution_count": null,
   "metadata": {},
   "outputs": [],
   "source": []
  },
  {
   "cell_type": "code",
   "execution_count": null,
   "metadata": {},
   "outputs": [],
   "source": []
  },
  {
   "cell_type": "code",
   "execution_count": null,
   "metadata": {},
   "outputs": [],
   "source": []
  },
  {
   "cell_type": "code",
   "execution_count": null,
   "metadata": {},
   "outputs": [],
   "source": []
  },
  {
   "cell_type": "code",
   "execution_count": null,
   "metadata": {},
   "outputs": [],
   "source": []
  },
  {
   "cell_type": "code",
   "execution_count": null,
   "metadata": {},
   "outputs": [],
   "source": []
  },
  {
   "cell_type": "code",
   "execution_count": null,
   "metadata": {},
   "outputs": [],
   "source": []
  },
  {
   "cell_type": "code",
   "execution_count": null,
   "metadata": {},
   "outputs": [],
   "source": []
  },
  {
   "cell_type": "code",
   "execution_count": 62,
   "metadata": {},
   "outputs": [
    {
     "name": "stdout",
     "output_type": "stream",
     "text": [
      "train_new.shape: (86, 101)\n",
      "test_new.shape: (20, 101)\n"
     ]
    },
    {
     "name": "stderr",
     "output_type": "stream",
     "text": [
      "D:\\anaconda\\lib\\site-packages\\sklearn\\linear_model\\_coordinate_descent.py:476: ConvergenceWarning: Objective did not converge. You might want to increase the number of iterations. Duality gap: 0.0028285631472965292, tolerance: 0.00215\n",
      "  positive)\n"
     ]
    }
   ],
   "source": [
    "from sklearn.feature_selection import SelectFromModel\n",
    "from sklearn.linear_model import Lasso           # 此处以L1正则化的线性模型Lasso为例\n",
    "lasso = Lasso(alpha=0.0001).fit(addfeatures_train, addtrain_labels) \n",
    "model = SelectFromModel(lasso, prefit=True)\n",
    "\n",
    "train_new = model.transform(addfeatures_train)\n",
    "test_new = model.transform(addfeatures_test)\n",
    "\n",
    "print(\"train_new.shape:\", train_new.shape)\n",
    "print(\"test_new.shape:\", test_new.shape)"
   ]
  },
  {
   "cell_type": "code",
   "execution_count": 63,
   "metadata": {},
   "outputs": [
    {
     "data": {
      "text/plain": [
       "0.5"
      ]
     },
     "execution_count": 63,
     "metadata": {},
     "output_type": "execute_result"
    }
   ],
   "source": [
    "from sklearn import svm\n",
    "classifier = svm.SVC( )\n",
    "classifier.fit(train_new, addtrain_labels)\n",
    "classifier.score(test_new,addtest_labels)"
   ]
  },
  {
   "cell_type": "code",
   "execution_count": 64,
   "metadata": {},
   "outputs": [],
   "source": [
    "def fisherscore(data, labels, num):\n",
    "\n",
    "    high = len(data)  # 向量个数\n",
    "    weight = len(data[0])  # 向量长度\n",
    "    P_num = np.sum(labels == 0)  # 正样本\n",
    "    N_num = np.sum(labels == 1)  # 负样本\n",
    "\n",
    "    # 计算Fisher score\n",
    "\n",
    "    fisherscore = []\n",
    "    for i in range(weight):\n",
    "        p = []\n",
    "        n = []\n",
    "        p_var = []\n",
    "        n_var = []\n",
    "        for j in range(high):\n",
    "            if labels[j] == 0:\n",
    "                p.append(data[j, i])\n",
    "            if labels[j] == 1:\n",
    "                n.append(data[j, i])\n",
    "\n",
    "        p_average = np.sum(p) / len(p)\n",
    "        n_average = np.sum(n) / len(n)\n",
    "        average = (np.sum(p) + np.sum(n)) / (len(p) + len(n))\n",
    "\n",
    "        for j in range(high):\n",
    "            if labels[j] == 0:\n",
    "                p_var.append((data[j, i] - p_average) ** 2)\n",
    "            if labels[j] == 1:\n",
    "                n_var.append((data[j, i] - n_average) ** 2)\n",
    "\n",
    "        score = ((p_average - average) ** 2 + (n_average - average) ** 2) / (\n",
    "                    np.sum(p_var) / len(p) + np.sum(n_var) / len(n))\n",
    "\n",
    "        fisherscore.append(score)\n",
    "\n",
    "    index = np.argsort(-np.array(fisherscore))  # 返回索引\n",
    "    new_data = []\n",
    "    for i in range(num):\n",
    "        new_data.append(data[:, index[i]])\n",
    "\n",
    "    new_data = np.array(new_data)\n",
    "    new_data = new_data.transpose(1, 0)\n",
    "\n",
    "    return new_data"
   ]
  },
  {
   "cell_type": "code",
   "execution_count": 65,
   "metadata": {},
   "outputs": [],
   "source": [
    "fisher_train = fisherscore(addfeatures_train, addtrain_labels, 2)\n",
    "fisher_test = fisherscore(addfeatures_test, addtest_labels, 2)"
   ]
  },
  {
   "cell_type": "code",
   "execution_count": 66,
   "metadata": {},
   "outputs": [
    {
     "data": {
      "text/plain": [
       "0.0"
      ]
     },
     "execution_count": 66,
     "metadata": {},
     "output_type": "execute_result"
    }
   ],
   "source": [
    "from sklearn import svm\n",
    "classifier = svm.LinearSVC()\n",
    "classifier.fit(fisher_train, addtrain_labels)\n",
    "classifier.score(fisher_test,addtest_labels)"
   ]
  },
  {
   "cell_type": "code",
   "execution_count": 67,
   "metadata": {},
   "outputs": [
    {
     "data": {
      "text/plain": [
       "<matplotlib.collections.PathCollection at 0x171cc2cd788>"
      ]
     },
     "execution_count": 67,
     "metadata": {},
     "output_type": "execute_result"
    },
    {
     "data": {
      "image/png": "[encoded data removed]",
      "text/plain": [
       "<Figure size 864x432 with 1 Axes>"
      ]
     },
     "metadata": {
      "needs_background": "light"
     },
     "output_type": "display_data"
    }
   ],
   "source": [
    "plt.figure(figsize=(12, 6))\n",
    "plt.scatter(fisher_train[:, 0], fisher_train[:, 1], c=addtrain_labels)"
   ]
  },
  {
   "cell_type": "code",
   "execution_count": 68,
   "metadata": {},
   "outputs": [
    {
     "data": {
      "text/plain": [
       "<matplotlib.collections.PathCollection at 0x171d9cc0088>"
      ]
     },
     "execution_count": 68,
     "metadata": {},
     "output_type": "execute_result"
    },
    {
     "data": {
      "image/png": "[encoded data removed]",
      "text/plain": [
       "<Figure size 864x432 with 1 Axes>"
      ]
     },
     "metadata": {
      "needs_background": "light"
     },
     "output_type": "display_data"
    }
   ],
   "source": [
    "plt.figure(figsize=(12, 6))\n",
    "plt.scatter(fisher_test[:, 0], fisher_test[:, 1], c=addtest_labels)"
   ]
  },
  {
   "cell_type": "code",
   "execution_count": null,
   "metadata": {},
   "outputs": [],
   "source": []
  },
  {
   "cell_type": "code",
   "execution_count": null,
   "metadata": {},
   "outputs": [],
   "source": []
  }
 ],
 "metadata": {
  "kernelspec": {
   "display_name": "Python 3",
   "language": "python",
   "name": "python3"
  },
  "language_info": {
   "codemirror_mode": {
    "name": "ipython",
    "version": 3
   },
   "file_extension": ".py",
   "mimetype": "text/x-python",
   "name": "python",
   "nbconvert_exporter": "python",
   "pygments_lexer": "ipython3",
   "version": "3.7.6"
  }
 },
 "nbformat": 4,
 "nbformat_minor": 4
}
