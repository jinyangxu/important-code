{
 "cells": [
  {
   "cell_type": "code",
   "execution_count": 153,
   "metadata": {},
   "outputs": [],
   "source": [
    "import torchvision\n",
    "import torch\n",
    "import matplotlib.pyplot as plt\n",
    "import numpy as np\n",
    "import torch.nn as nn\n",
    "import torch.utils.data as Data\n",
    "from torchvision import transforms\n",
    "from torchvision.datasets import ImageFolder"
   ]
  },
  {
   "cell_type": "code",
   "execution_count": 154,
   "metadata": {},
   "outputs": [
    {
     "name": "stdout",
     "output_type": "stream",
     "text": [
      "train_features.shape: (25456, 84)\n",
      "train_labels.shape (25456, 1)\n",
      "test_features.shape: (5920, 84)\n",
      "test_labels.shape (5920, 1)\n"
     ]
    }
   ],
   "source": [
    "train_features = np.load('C:\\\\Users\\\\atr\\\\Desktop\\\\save\\\\single\\\\um\\\\um_train_features.npy')\n",
    "train_labels = np.load('C:\\\\Users\\\\atr\\\\Desktop\\\\save\\\\single\\\\um\\\\um_train_labels.npy')\n",
    "train_features = np.squeeze(train_features)\n",
    "print(\"train_features.shape:\",train_features.shape)\n",
    "print(\"train_labels.shape\", train_labels.shape)\n",
    "\n",
    "test_features = np.load('C:\\\\Users\\\\atr\\\\Desktop\\\\save\\\\single\\\\um\\\\um_test_features.npy')\n",
    "test_labels = np.load('C:\\\\Users\\\\atr\\\\Desktop\\\\save\\\\single\\\\um\\\\um_test_labels.npy')\n",
    "test_features = np.squeeze(test_features)\n",
    "print(\"test_features.shape:\",test_features.shape)\n",
    "print(\"test_labels.shape\", test_labels.shape)"
   ]
  },
  {
   "cell_type": "code",
   "execution_count": 155,
   "metadata": {},
   "outputs": [],
   "source": [
    "addfeatures_train = []\n",
    "addfeatures_test = []\n",
    "\n",
    "for i in range(86):\n",
    "    min_train = train_features[i*296:(i+1)*296]\n",
    "    addfeatures_train.append(min_train)\n",
    "    \n",
    "for i in range(20):\n",
    "    min_test = test_features[i*296:(i+1)*296]\n",
    "    addfeatures_test.append(min_test)\n",
    "    \n",
    "addfeatures_train = np.squeeze(np.array(addfeatures_train))\n",
    "#addfeatures_train = addfeatures_train.transpose(0,2,1)\n",
    "addfeatures_test = np.squeeze(np.array(addfeatures_test))\n",
    "#addfeatures_test = addfeatures_test.transpose(0,2,1)\n",
    "    \n",
    "addtrain_labels = np.array([0]*43+[1]*43)\n",
    "addtest_labels = np.array([0]*10+[1]*10)"
   ]
  },
  {
   "cell_type": "code",
   "execution_count": 156,
   "metadata": {},
   "outputs": [
    {
     "name": "stderr",
     "output_type": "stream",
     "text": [
      "D:\\anaconda\\lib\\site-packages\\nilearn\\connectome\\connectivity_matrices.py:192: UserWarning: Maximum number of iterations 30 reached without getting to the requested tolerance level 1e-07.\n",
      "  \"{1}.\".format(max_iter, tol))\n",
      "D:\\anaconda\\lib\\site-packages\\nilearn\\connectome\\connectivity_matrices.py:192: UserWarning: Maximum number of iterations 30 reached without getting to the requested tolerance level 1e-07.\n",
      "  \"{1}.\".format(max_iter, tol))\n"
     ]
    }
   ],
   "source": [
    "from nilearn.connectome import ConnectivityMeasure\n",
    "from nilearn.connectome import sym_matrix_to_vec\n",
    "\n",
    "conn_est = ConnectivityMeasure(kind = 'tangent')\n",
    "addfeatures_train = conn_est.fit_transform(addfeatures_train)\n",
    "addfeatures_train = sym_matrix_to_vec(addfeatures_train)\n",
    "\n",
    "addfeatures_test = conn_est.fit_transform(addfeatures_test)\n",
    "addfeatures_test = sym_matrix_to_vec(addfeatures_test)"
   ]
  },
  {
   "cell_type": "code",
   "execution_count": null,
   "metadata": {},
   "outputs": [],
   "source": []
  },
  {
   "cell_type": "code",
   "execution_count": 157,
   "metadata": {},
   "outputs": [],
   "source": [
    "# data = np.append(addfeatures_train,addfeatures_test,axis=0)\n",
    "# label = np.append(addtrain_labels,addtest_labels,axis=0)"
   ]
  },
  {
   "cell_type": "code",
   "execution_count": 158,
   "metadata": {},
   "outputs": [],
   "source": [
    "def fisherscore(data, labels, num):\n",
    "\n",
    "    high = len(data)  # 向量个数\n",
    "    weight = len(data[0])  # 向量长度\n",
    "    P_num = np.sum(labels == 0)  # 正样本\n",
    "    N_num = np.sum(labels == 1)  # 负样本\n",
    "\n",
    "    # 计算Fisher score\n",
    "\n",
    "    fisherscore = []\n",
    "    for i in range(weight):\n",
    "        p = []\n",
    "        n = []\n",
    "        p_var = []\n",
    "        n_var = []\n",
    "        for j in range(high):\n",
    "            if labels[j] == 0:\n",
    "                p.append(data[j, i])\n",
    "            if labels[j] == 1:\n",
    "                n.append(data[j, i])\n",
    "\n",
    "        p_average = np.sum(p) / len(p)\n",
    "        n_average = np.sum(n) / len(n)\n",
    "        average = (np.sum(p) + np.sum(n)) / (len(p) + len(n))\n",
    "\n",
    "        for j in range(high):\n",
    "            if labels[j] == 0:\n",
    "                p_var.append((data[j, i] - p_average) ** 2)\n",
    "            if labels[j] == 1:\n",
    "                n_var.append((data[j, i] - n_average) ** 2)\n",
    "\n",
    "        score = ((p_average - average) ** 2 + (n_average - average) ** 2) / (\n",
    "                    np.sum(p_var) / len(p) + np.sum(n_var) / len(n))\n",
    "\n",
    "        fisherscore.append(score)\n",
    "\n",
    "    index = np.argsort(-np.array(fisherscore))  # 返回索引\n",
    "    new_data = []\n",
    "    for i in range(num):\n",
    "        new_data.append(data[:, index[i]])\n",
    "\n",
    "    new_data = np.array(new_data)\n",
    "    new_data = new_data.transpose(1, 0)\n",
    "\n",
    "    return new_data"
   ]
  },
  {
   "cell_type": "code",
   "execution_count": 159,
   "metadata": {},
   "outputs": [],
   "source": [
    "fisher_train = fisherscore(addfeatures_train, addtrain_labels, 2)\n",
    "fisher_test = fisherscore(addfeatures_test, addtest_labels, 2)"
   ]
  },
  {
   "cell_type": "code",
   "execution_count": 160,
   "metadata": {},
   "outputs": [],
   "source": [
    "# traindata = fisher_data[0:86]\n",
    "# testdata = fisher_data[86:106]\n",
    "# addtrain_labels = np.array([0]*43+[1]*43)\n",
    "# addtest_labels = np.array([0]*10+[1]*10)"
   ]
  },
  {
   "cell_type": "code",
   "execution_count": 161,
   "metadata": {},
   "outputs": [
    {
     "data": {
      "text/plain": [
       "0.85"
      ]
     },
     "execution_count": 161,
     "metadata": {},
     "output_type": "execute_result"
    }
   ],
   "source": [
    "from sklearn import svm\n",
    "classifier = svm.LinearSVC()\n",
    "classifier.fit(fisher_train, addtrain_labels)\n",
    "classifier.score(fisher_test, addtest_labels)"
   ]
  },
  {
   "cell_type": "code",
   "execution_count": 162,
   "metadata": {},
   "outputs": [
    {
     "data": {
      "text/plain": [
       "<matplotlib.collections.PathCollection at 0x1e76b084dc8>"
      ]
     },
     "execution_count": 162,
     "metadata": {},
     "output_type": "execute_result"
    },
    {
     "data": {
      "image/png": "[encoded data removed]",
      "text/plain": [
       "<Figure size 864x432 with 1 Axes>"
      ]
     },
     "metadata": {
      "needs_background": "light"
     },
     "output_type": "display_data"
    }
   ],
   "source": [
    "plt.figure(figsize=(12, 6))\n",
    "plt.scatter(traindata[:, 0], traindata[:, 1], c=addtrain_labels)"
   ]
  },
  {
   "cell_type": "code",
   "execution_count": 163,
   "metadata": {},
   "outputs": [
    {
     "data": {
      "text/plain": [
       "<matplotlib.collections.PathCollection at 0x1e76b0fd508>"
      ]
     },
     "execution_count": 163,
     "metadata": {},
     "output_type": "execute_result"
    },
    {
     "data": {
      "image/png": "[encoded data removed]",
      "text/plain": [
       "<Figure size 864x432 with 1 Axes>"
      ]
     },
     "metadata": {
      "needs_background": "light"
     },
     "output_type": "display_data"
    }
   ],
   "source": [
    "plt.figure(figsize=(12, 6))\n",
    "plt.scatter(testdata[:, 0], testdata[:, 1], c=addtest_labels)"
   ]
  },
  {
   "cell_type": "code",
   "execution_count": null,
   "metadata": {},
   "outputs": [],
   "source": []
  },
  {
   "cell_type": "code",
   "execution_count": null,
   "metadata": {},
   "outputs": [],
   "source": []
  },
  {
   "cell_type": "code",
   "execution_count": null,
   "metadata": {},
   "outputs": [],
   "source": []
  }
 ],
 "metadata": {
  "kernelspec": {
   "display_name": "Python 3",
   "language": "python",
   "name": "python3"
  },
  "language_info": {
   "codemirror_mode": {
    "name": "ipython",
    "version": 3
   },
   "file_extension": ".py",
   "mimetype": "text/x-python",
   "name": "python",
   "nbconvert_exporter": "python",
   "pygments_lexer": "ipython3",
   "version": "3.7.6"
  }
 },
 "nbformat": 4,
 "nbformat_minor": 4
}
